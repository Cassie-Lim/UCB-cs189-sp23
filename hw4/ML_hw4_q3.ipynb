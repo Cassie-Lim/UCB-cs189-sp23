{
  "nbformat": 4,
  "nbformat_minor": 0,
  "metadata": {
    "colab": {
      "provenance": [],
      "toc_visible": true
    },
    "kernelspec": {
      "name": "python3",
      "display_name": "Python 3"
    },
    "language_info": {
      "name": "python"
    }
  },
  "cells": [
    {
      "cell_type": "code",
      "source": [
        "from google.colab import drive\n",
        "drive.mount('/content/drive')"
      ],
      "metadata": {
        "id": "J8SMxzPLdGm9",
        "colab": {
          "base_uri": "https://localhost:8080/"
        },
        "outputId": "4ca81c91-e780-436e-f518-6a8f37251df2"
      },
      "execution_count": 1,
      "outputs": [
        {
          "output_type": "stream",
          "name": "stdout",
          "text": [
            "Drive already mounted at /content/drive; to attempt to forcibly remount, call drive.mount(\"/content/drive\", force_remount=True).\n"
          ]
        }
      ]
    },
    {
      "cell_type": "code",
      "source": [
        "import os\n",
        "os.chdir('/content/drive/MyDrive/ML/hw4')"
      ],
      "metadata": {
        "id": "xXcNqTSXdUr0"
      },
      "execution_count": 2,
      "outputs": []
    },
    {
      "cell_type": "markdown",
      "source": [
        "## Import packages"
      ],
      "metadata": {
        "id": "kHC83NPdW00p"
      }
    },
    {
      "cell_type": "code",
      "execution_count": 3,
      "metadata": {
        "id": "NGsK-_xjcnfN"
      },
      "outputs": [],
      "source": [
        "import pandas as pd\n",
        "import numpy as np\n",
        "import matplotlib.pyplot as plt\n",
        "import scipy # scipy.special.expit\n",
        "import matplotlib.pyplot as plt\n",
        "import seaborn as sns\n",
        "from scipy.io import loadmat\n",
        "from sklearn.model_selection import train_test_split\n",
        "from sklearn.metrics import accuracy_score"
      ]
    },
    {
      "cell_type": "markdown",
      "source": [
        "## Helper Functions"
      ],
      "metadata": {
        "id": "lneB9i-7fY1C"
      }
    },
    {
      "cell_type": "code",
      "source": [
        "def results_to_csv(y_test, name):\n",
        "    y_test = y_test.astype(int)\n",
        "    df = pd.DataFrame({'Category': y_test})\n",
        "    df.index += 1 # Ensures that the index starts at 1\n",
        "    df.to_csv(name+'.csv', index_label='Id')\n",
        "    \n",
        "def sigmoid(x):\n",
        "  return scipy.special.expit(x)\n",
        "\n",
        "def normalize(mu, sigma, x):\n",
        "  return (x - mu)/sigma"
      ],
      "metadata": {
        "id": "cl4VXyoUfcob"
      },
      "execution_count": 4,
      "outputs": []
    },
    {
      "cell_type": "markdown",
      "source": [
        "## Process data"
      ],
      "metadata": {
        "id": "YhU4hAgZs29k"
      }
    },
    {
      "cell_type": "code",
      "source": [
        "# load data\n",
        "data = loadmat(f\"./data.mat\")\n",
        "# data.keys()\n",
        "y = data['y']\n",
        "X = data['X']\n",
        "X_test = data['X_test']\n",
        "print(y.shape, X.shape, X_test.shape)\n",
        "\n",
        "mu = np.mean(X, axis=0)\n",
        "sigma = np.std(X, axis=0)\n",
        "X = normalize(mu, sigma, X)\n",
        "X_test = normalize(mu, sigma, X_test)\n",
        "\n",
        "X_train, X_val, y_train, y_val = train_test_split(X, y, test_size=0.2, random_state=13)"
      ],
      "metadata": {
        "colab": {
          "base_uri": "https://localhost:8080/"
        },
        "id": "AOU6TbGFs5Ig",
        "outputId": "9b3534cc-9983-484b-eae5-e8d787af39e5"
      },
      "execution_count": 7,
      "outputs": [
        {
          "output_type": "stream",
          "name": "stdout",
          "text": [
            "(6000, 1) (6000, 12) (497, 12)\n"
          ]
        }
      ]
    },
    {
      "cell_type": "markdown",
      "source": [
        "## Model: Logistic Regression"
      ],
      "metadata": {
        "id": "AvcIioyYgx_v"
      }
    },
    {
      "cell_type": "code",
      "source": [
        "class LogisticRegression():\n",
        "    def __init__(self, lr, C, epochs, rule=\"BGD\", lr_decay=False):\n",
        "      self.lr = lr\n",
        "      self.epochs = epochs\n",
        "      self.C = C # regularization parameter\n",
        "      self.rule = rule\n",
        "      self.lr_decay = lr_decay\n",
        "\n",
        "\n",
        "    def loss(self, y, y_pred):\n",
        "      return np.sum(- y * np.log(y_pred + 1e-8) - (1-y) * np.log(1 - y_pred + 1e-8)) + self.C * (self.w.T @ self.w)/2\n",
        "    \n",
        "    def fit(self, X, y):\n",
        "      loss_list = []\n",
        "      # initialize weights\n",
        "      w = np.random.normal(loc=0.0, scale=1.0, size=(X.shape[1],))\n",
        "      b = 0\n",
        "      self.w = np.insert(w, 0, b, axis=0)\n",
        "      # self.w = np.ones(X.shape[1]+1)\n",
        "      # add fake dimension\n",
        "      X = np.insert(X, 0, 1, axis=1)\n",
        "      y = y.reshape((y.shape[0], ))\n",
        "      if self.rule==\"BGD\":\n",
        "        for i in range(self.epochs):\n",
        "          y_pred = sigmoid(X @ self.w)\n",
        "          loss_list.append(self.loss(y, y_pred))\n",
        "          w_grad = X.T @ (y_pred - y) + self.C * self.w\n",
        "          self.w = self.w - self.lr * w_grad\n",
        "      else:\n",
        "        delta = self.lr\n",
        "        for i in range(self.epochs):\n",
        "          for j in range(X.shape[0]):\n",
        "            y_pred = sigmoid(X[j].T @ self.w)\n",
        "            if self.lr_decay:\n",
        "              iter = i * X.shape[0] + j  +1\n",
        "              self.lr = delta / iter\n",
        "            w_grad = X[j] * (y_pred - y[j]) + self.C * self.w\n",
        "            self.w = self.w - self.lr * w_grad\n",
        "            # calculate cost on whole train_set\n",
        "            y_pred = sigmoid(X @ self.w)\n",
        "            loss_list.append(self.loss(y, y_pred))\n",
        "      plt.figure()                   \n",
        "      plt.plot(loss_list,'b',label = 'loss')       \n",
        "      plt.ylabel('loss')\n",
        "      plt.xlabel('iterations')\n",
        "      plt.legend()\n",
        "\n",
        "    def predict(self, X):\n",
        "      X = np.insert(X, 0, 1, axis=1)\n",
        "      y_pred = sigmoid(X @ self.w)\n",
        "      return (y_pred > 0.5).astype(int)"
      ],
      "metadata": {
        "id": "lS6A6xDng1_i"
      },
      "execution_count": 5,
      "outputs": []
    },
    {
      "cell_type": "markdown",
      "source": [
        "## Train model"
      ],
      "metadata": {
        "id": "AMfeSIiPvq1B"
      }
    },
    {
      "cell_type": "markdown",
      "source": [
        "### q3.2 BGD"
      ],
      "metadata": {
        "id": "k9lKIl1vM58x"
      }
    },
    {
      "cell_type": "code",
      "source": [
        "# for lr in [0.001, 0.01]:\n",
        "#   for C in [0.001, 0.01]:\n",
        "C = 0.01\n",
        "lr = 0.001\n",
        "model = LogisticRegression(lr, C, 40)\n",
        "model.fit(X_train, y_train)\n",
        "y_pred_val = model.predict(X_val)\n",
        "acc = accuracy_score(y_val, y_pred_val)\n",
        "print(f\"Using BGD:\\nlr set to {lr}, C set to {C}, acc {acc}\")\n"
      ],
      "metadata": {
        "id": "oDfEALA0vs54",
        "colab": {
          "base_uri": "https://localhost:8080/",
          "height": 315
        },
        "outputId": "766b7e08-58d3-4c12-8aab-7205ad752938"
      },
      "execution_count": null,
      "outputs": [
        {
          "output_type": "stream",
          "name": "stdout",
          "text": [
            "Using BGD:\n",
            "lr set to 0.001, C set to 0.01, acc 0.9908333333333333\n"
          ]
        },
        {
          "output_type": "display_data",
          "data": {
            "text/plain": [
              "<Figure size 432x288 with 1 Axes>"
            ],
            "image/png": "[encoded data removed]"
          },
          "metadata": {
            "needs_background": "light"
          }
        }
      ]
    },
    {
      "cell_type": "markdown",
      "source": [
        "### q3.3 SGD"
      ],
      "metadata": {
        "id": "D-n9IIP_Zgma"
      }
    },
    {
      "cell_type": "code",
      "source": [
        "# for lr in [0.001, 0.01]:\n",
        "#   for C in [0.001, 0.01]:\n",
        "C = 0.01\n",
        "lr = 0.1\n",
        "model = LogisticRegression(lr, C, 1, \"SGD\")\n",
        "model.fit(X_train, y_train)\n",
        "y_pred_val = model.predict(X_val)\n",
        "acc = accuracy_score(y_val, y_pred_val)\n",
        "print(f\"Using SGD:\\nlr set to {lr}, C set to {C}, acc {acc}\")\n"
      ],
      "metadata": {
        "colab": {
          "base_uri": "https://localhost:8080/",
          "height": 315
        },
        "outputId": "5175b5db-d36b-46e6-c3a5-21610f9275ea",
        "id": "Ihkf8iF5Qzbo"
      },
      "execution_count": null,
      "outputs": [
        {
          "output_type": "stream",
          "name": "stdout",
          "text": [
            "Using SGD:\n",
            "lr set to 0.1, C set to 0.01, acc 0.9908333333333333\n"
          ]
        },
        {
          "output_type": "display_data",
          "data": {
            "text/plain": [
              "<Figure size 432x288 with 1 Axes>"
            ],
            "image/png": "[encoded data removed]"
          },
          "metadata": {
            "needs_background": "light"
          }
        }
      ]
    },
    {
      "cell_type": "markdown",
      "source": [
        "### q3.4 LR decay"
      ],
      "metadata": {
        "id": "uWxxV3PHNFBt"
      }
    },
    {
      "cell_type": "code",
      "source": [
        "# for lr in [0.001, 0.01]:\n",
        "#   for C in [0.001, 0.01]:\n",
        "C = 0.01\n",
        "delta = 10\n",
        "model = LogisticRegression(delta, C, 1, \"SGD\", lr_decay=True)\n",
        "model.fit(X_train, y_train)\n",
        "y_pred_val = model.predict(X_val)\n",
        "acc = accuracy_score(y_val, y_pred_val)\n",
        "print(f\"Using SGD:\\nDelta set to {delta}, C set to {C}, acc {acc}\")\n"
      ],
      "metadata": {
        "colab": {
          "base_uri": "https://localhost:8080/",
          "height": 315
        },
        "outputId": "59721559-3a0b-40ab-cd3f-e2c5d963cfe1",
        "id": "JICGsoYJcjXS"
      },
      "execution_count": null,
      "outputs": [
        {
          "output_type": "stream",
          "name": "stdout",
          "text": [
            "Using SGD:\n",
            "Delta set to 10, C set to 0.01, acc 0.9833333333333333\n"
          ]
        },
        {
          "output_type": "display_data",
          "data": {
            "text/plain": [
              "<Figure size 432x288 with 1 Axes>"
            ],
            "image/png": "[encoded data removed]"
          },
          "metadata": {
            "needs_background": "light"
          }
        }
      ]
    },
    {
      "cell_type": "markdown",
      "source": [
        "### q3.5 Improve the performance of model\n"
      ],
      "metadata": {
        "id": "emjRoKsBNPjE"
      }
    },
    {
      "cell_type": "markdown",
      "source": [
        "#### Attempt 1:delete features"
      ],
      "metadata": {
        "id": "FGy0kd_VlqmS"
      }
    },
    {
      "cell_type": "code",
      "source": [
        "# evaluate the importance of features\n",
        "print(model.w)"
      ],
      "metadata": {
        "colab": {
          "base_uri": "https://localhost:8080/"
        },
        "id": "OCEslW_LjZD9",
        "outputId": "cb87734e-bef2-47e6-99a0-60aa6b0d9021"
      },
      "execution_count": null,
      "outputs": [
        {
          "output_type": "stream",
          "name": "stdout",
          "text": [
            "[-3.32257779  0.39865405  1.44134369 -0.06231411 -1.83561014  0.60223554\n",
            " -0.11690942 -2.11726179  2.94109762  0.46743809  0.79994031  0.7479095\n",
            "  0.38043453]\n"
          ]
        }
      ]
    },
    {
      "cell_type": "code",
      "source": [
        "y = data['y']\n",
        "X = data['X']\n",
        "X_test = data['X_test']\n",
        "\n",
        "mu = np.mean(X, axis=0)\n",
        "sigma = np.std(X, axis=0)\n",
        "X = normalize(mu, sigma, X)\n",
        "X_test = normalize(mu, sigma, X_test)\n",
        "\n",
        "X_del = np.delete(X, (0, 8), axis=1)\n",
        "X_test_del = np.delete(X_test, (0, 8), axis=1)\n",
        "# X_del = X\n",
        "# X_test_del = X_test\n",
        "print(X_del.shape, X_test_del.shape)\n",
        "X_train_del, X_val_del, y_train, y_val = train_test_split(X_del, y, test_size=0.2, random_state=13)"
      ],
      "metadata": {
        "colab": {
          "base_uri": "https://localhost:8080/"
        },
        "id": "z9UCIeTgf1JR",
        "outputId": "b2c04627-8983-478a-9ed3-e6faa04c6a39"
      },
      "execution_count": null,
      "outputs": [
        {
          "output_type": "stream",
          "name": "stdout",
          "text": [
            "(6000, 10) (497, 10)\n"
          ]
        }
      ]
    },
    {
      "cell_type": "code",
      "source": [
        "# for lr in [0.001, 0.01]:\n",
        "#   for C in [0.001, 0.01]:\n",
        "C = 0.01\n",
        "lr = 0.001\n",
        "model = LogisticRegression(lr, C, 40)\n",
        "\n",
        "model.fit(X_train_del, y_train)\n",
        "y_pred_test = model.predict(X_test_del)\n",
        "results_to_csv(y_pred_test, \"lr_del\")\n",
        "\n",
        "# model.fit(X_train_del, y_train)\n",
        "# y_pred_val = model.predict(X_val_del)\n",
        "# acc = accuracy_score(y_val, y_pred_val)\n",
        "# print(f\"Using BGD:\\nlr set to {lr}, C set to {C}, acc {acc}\")"
      ],
      "metadata": {
        "colab": {
          "base_uri": "https://localhost:8080/",
          "height": 279
        },
        "id": "B-aNGp86gPkE",
        "outputId": "aad5454f-1ca7-47c0-ae22-1a59478b6019"
      },
      "execution_count": null,
      "outputs": [
        {
          "output_type": "display_data",
          "data": {
            "text/plain": [
              "<Figure size 432x288 with 1 Axes>"
            ],
            "image/png": "[encoded data removed]"
          },
          "metadata": {
            "needs_background": "light"
          }
        }
      ]
    },
    {
      "cell_type": "markdown",
      "source": [
        "#### Attempt 2: lift the dims"
      ],
      "metadata": {
        "id": "iq_LuP0qm2wm"
      }
    },
    {
      "cell_type": "code",
      "source": [
        "y = data['y']\n",
        "X = data['X']\n",
        "X_test = data['X_test']\n",
        "X_aug = X\n",
        "X_test_aug = X_test\n",
        "for i in range(X.shape[1]):\n",
        "  for j in range(X.shape[1]):\n",
        "    X_aug = np.insert(X_aug, -1, X_aug[:, i]*X_aug[:, j], axis=1)\n",
        "    X_test_aug = np.insert(X_test_aug, -1, X_test_aug[:, i]*X_test_aug[:, j], axis=1)\n",
        "print(X_aug.shape, X_test_aug.shape)\n",
        "\n",
        "mu = np.mean(X_aug, axis=0)\n",
        "sigma = np.std(X_aug, axis=0)\n",
        "X_aug = normalize(mu, sigma, X_aug)\n",
        "X_test_aug = normalize(mu, sigma, X_test_aug)\n",
        "\n",
        "\n",
        "X_train_aug, X_val_aug, y_train, y_val = train_test_split(X_aug, y, test_size=0.1, random_state=13)"
      ],
      "metadata": {
        "colab": {
          "base_uri": "https://localhost:8080/"
        },
        "id": "j8B1ZLnje-jt",
        "outputId": "767a8b17-8b75-417a-de63-9e4a70a60312"
      },
      "execution_count": null,
      "outputs": [
        {
          "output_type": "stream",
          "name": "stdout",
          "text": [
            "(6000, 156) (497, 156)\n"
          ]
        }
      ]
    },
    {
      "cell_type": "code",
      "source": [
        "C = 0.1\n",
        "lr = 0.001\n",
        "model = LogisticRegression(lr, C, 1000)\n",
        "model.fit(X_aug, y)\n",
        "y_pred_test = model.predict(X_test_aug)\n",
        "results_to_csv(y_pred_test, \"wine_HD\")\n",
        "\n",
        "# model.fit(X_train_aug, y_train)\n",
        "# y_pred_val = model.predict(X_val_aug)\n",
        "# acc = accuracy_score(y_val, y_pred_val)\n",
        "# print(f\"Using BGD:\\nlr set to {lr}, C set to {C}, acc {acc}\")"
      ],
      "metadata": {
        "colab": {
          "base_uri": "https://localhost:8080/",
          "height": 315
        },
        "id": "JcrD0w3zQsfW",
        "outputId": "173693c0-8c37-4ce1-e806-60a7d367c093"
      },
      "execution_count": null,
      "outputs": [
        {
          "output_type": "stream",
          "name": "stdout",
          "text": [
            "Using BGD:\n",
            "lr set to 0.001, C set to 0.1, acc 0.9933333333333333\n"
          ]
        },
        {
          "output_type": "display_data",
          "data": {
            "text/plain": [
              "<Figure size 432x288 with 1 Axes>"
            ],
            "image/png": "[encoded data removed]"
          },
          "metadata": {
            "needs_background": "light"
          }
        }
      ]
    },
    {
      "cell_type": "markdown",
      "source": [
        "#### Attempt 3: delete features & lift the dims (Best perf)"
      ],
      "metadata": {
        "id": "vyddyyS5HEZu"
      }
    },
    {
      "cell_type": "code",
      "source": [
        "y = data['y']\n",
        "X = data['X']\n",
        "X_test = data['X_test']\n",
        "# delete less distincitive features\n",
        "X_del = np.delete(X, (0, 8), axis=1)\n",
        "X_test_del = np.delete(X_test, (0, 8), axis=1)\n",
        "# 1-D to 2-D\n",
        "X_aug = X_del\n",
        "X_test_aug = X_test_del\n",
        "for i in range(X_del.shape[1]):\n",
        "  for j in range(X_del.shape[1]):\n",
        "    X_aug = np.insert(X_aug, -1, X_aug[:, i]*X_aug[:, j], axis=1)\n",
        "    X_test_aug = np.insert(X_test_aug, -1, X_test_aug[:, i]*X_test_aug[:, j], axis=1)\n",
        "print(X_aug.shape, X_test_aug.shape)\n",
        "\n",
        "mu = np.mean(X_aug, axis=0)\n",
        "sigma = np.std(X_aug, axis=0)\n",
        "X_aug = normalize(mu, sigma, X_aug)\n",
        "X_test_aug = normalize(mu, sigma, X_test_aug)\n",
        "\n",
        "\n",
        "X_train_aug, X_val_aug, y_train, y_val = train_test_split(X_aug, y, test_size=0.1, random_state=13)"
      ],
      "metadata": {
        "colab": {
          "base_uri": "https://localhost:8080/"
        },
        "outputId": "dbeb82cb-6d86-4c05-f920-e18c946b0aad",
        "id": "2hH-RyLhHEZv"
      },
      "execution_count": 9,
      "outputs": [
        {
          "output_type": "stream",
          "name": "stdout",
          "text": [
            "(6000, 110) (497, 110)\n"
          ]
        }
      ]
    },
    {
      "cell_type": "code",
      "source": [
        "C = 0.1\n",
        "lr = 0.001\n",
        "model = LogisticRegression(lr, C, 1000)\n",
        "model.fit(X_aug, y)\n",
        "y_pred_test = model.predict(X_test_aug)\n",
        "results_to_csv(y_pred_test, \"wine_HD_DEL\")\n",
        "\n",
        "# model.fit(X_train_aug, y_train)\n",
        "# y_pred_val = model.predict(X_val_aug)\n",
        "# acc = accuracy_score(y_val, y_pred_val)\n",
        "# print(f\"Using BGD:\\nlr set to {lr}, C set to {C}, acc {acc}\")"
      ],
      "metadata": {
        "colab": {
          "base_uri": "https://localhost:8080/",
          "height": 280
        },
        "outputId": "3f487735-afc6-45bd-a5ea-6b29ed00e065",
        "id": "IF5EO2sFHEZv"
      },
      "execution_count": 11,
      "outputs": [
        {
          "output_type": "display_data",
          "data": {
            "text/plain": [
              "<Figure size 432x288 with 1 Axes>"
            ],
            "image/png": "[encoded data removed]"
          },
          "metadata": {
            "needs_background": "light"
          }
        }
      ]
    }
  ]
}