{
 "cells": [
  {
   "cell_type": "code",
   "execution_count": 1,
   "metadata": {
    "colab": {
     "base_uri": "https://localhost:8080/"
    },
    "id": "WGO16Efo2s-L",
    "outputId": "f5c8886b-4c7d-4d72-9b32-bcb021be3156"
   },
   "outputs": [
    {
     "name": "stdout",
     "output_type": "stream",
     "text": [
      "Mounted at /content/drive\n"
     ]
    }
   ],
   "source": [
    "from google.colab import drive\n",
    "drive.mount('/content/drive')"
   ]
  },
  {
   "cell_type": "code",
   "execution_count": 2,
   "metadata": {
    "id": "-xKxHmmm2toU"
   },
   "outputs": [],
   "source": [
    "import os\n",
    "os.chdir('/content/drive/MyDrive/ML/hw3-2023')"
   ]
  },
  {
   "cell_type": "markdown",
   "metadata": {
    "id": "kHC83NPdW00p"
   },
   "source": [
    "## Import packages"
   ]
  },
  {
   "cell_type": "code",
   "execution_count": 3,
   "metadata": {
    "id": "wuOPnVAIuIFD"
   },
   "outputs": [],
   "source": [
    "import sys\n",
    "import pandas as pd\n",
    "\n",
    "if sys.version_info[0] < 3:\n",
    "    raise Exception(\"Python 3 not detected.\")\n",
    "import numpy as np\n",
    "import matplotlib.pyplot as plt\n",
    "from sklearn.metrics import accuracy_score\n",
    "# from scipy.stats import multivariate_normal\n",
    "from skimage.feature import hog, local_binary_pattern"
   ]
  },
  {
   "cell_type": "markdown",
   "metadata": {
    "id": "G6HpfzNdW6VY"
   },
   "source": [
    "## Load data"
   ]
  },
  {
   "cell_type": "code",
   "execution_count": 4,
   "metadata": {
    "colab": {
     "base_uri": "https://localhost:8080/"
    },
    "id": "jm_eMXt02aqA",
    "outputId": "50ead704-1e65-4087-facd-a74d38466c66"
   },
   "outputs": [
    {
     "name": "stdout",
     "output_type": "stream",
     "text": [
      "\n",
      "loaded mnist data!\n",
      "test_data (10000, 1, 28, 28)\n",
      "training_data (60000, 1, 28, 28)\n",
      "training_labels (60000,)\n"
     ]
    }
   ],
   "source": [
    "# load data\n",
    "data_name = \"mnist\"\n",
    "data = np.load(f\"./data/{data_name}-data-hw3.npz\")\n",
    "print(\"\\nloaded %s data!\" % data_name)\n",
    "fields = \"test_data\", \"training_data\", \"training_labels\"\n",
    "for field in fields:\n",
    "    print(field, data[field].shape)"
   ]
  },
  {
   "cell_type": "markdown",
   "metadata": {
    "id": "HjOmWPqoW8RO"
   },
   "source": [
    "## Extract features"
   ]
  },
  {
   "cell_type": "code",
   "execution_count": 5,
   "metadata": {
    "id": "Q7bYsIh9RbHQ"
   },
   "outputs": [],
   "source": [
    "def extract_lbp_features(img, lbp_radius=1, lbp_point=8):\n",
    "    lbp = local_binary_pattern(img, lbp_point, lbp_radius, 'default')\n",
    "    max_bins = int(lbp.max() + 1)\n",
    "    # hist size:256\n",
    "    hist, _ = np.histogram(lbp, density=True, bins=max_bins, range=(0, max_bins))\n",
    "    return hist\n",
    "\n",
    "def extract_hog_features(img):\n",
    "    return hog(img)\n",
    "\n",
    "\n",
    "def extract_features(data, width=28, height=28, is_grey_image=True):\n",
    "    image_descriptors = []\n",
    "    arr = np.array(data)\n",
    "    print(arr.shape)\n",
    "    for x in data:\n",
    "      if is_grey_image:\n",
    "        x = x.reshape(width, height)\n",
    "        # normalize\n",
    "        x /= np.linalg.norm(x)\n",
    "        fd = []\n",
    "      fd = np.append(fd, extract_hog_features(x))\n",
    "      fd = np.append(fd, extract_lbp_features(x))\n",
    "      fd = np.append(fd, x)\n",
    "      image_descriptors.append(fd)\n",
    "    return image_descriptors"
   ]
  },
  {
   "cell_type": "code",
   "execution_count": 6,
   "metadata": {
    "colab": {
     "base_uri": "https://localhost:8080/"
    },
    "id": "QfLm3WnxXGW8",
    "outputId": "ee1727be-e16b-48b8-b1bd-0b692b25280d"
   },
   "outputs": [
    {
     "name": "stdout",
     "output_type": "stream",
     "text": [
      "(60000, 1, 28, 28)\n",
      "(10000, 1, 28, 28)\n"
     ]
    }
   ],
   "source": [
    "# extract features from raw pixels\n",
    "training_data = extract_features(data[\"training_data\"])\n",
    "test_data = extract_features(data[\"test_data\"])"
   ]
  },
  {
   "cell_type": "code",
   "execution_count": 7,
   "metadata": {
    "colab": {
     "base_uri": "https://localhost:8080/"
    },
    "id": "sz7CwYoS2gRh",
    "outputId": "11074dd9-4b61-4eb9-b120-9fd30c7aec79"
   },
   "outputs": [
    {
     "name": "stdout",
     "output_type": "stream",
     "text": [
      "(60000, 1122)\n"
     ]
    }
   ],
   "source": [
    "data_flat = np.array(training_data)\n",
    "labels = data[\"training_labels\"].reshape(len(data[\"training_labels\"]), -1)\n",
    "dataset = np.concatenate([labels, data_flat], axis=-1)\n",
    "print(dataset.shape)"
   ]
  },
  {
   "cell_type": "code",
   "execution_count": 8,
   "metadata": {
    "id": "Q2zsv0FQAMcx"
   },
   "outputs": [],
   "source": [
    "# split data\n",
    "np.random.seed(113)\n",
    "np.random.shuffle(dataset)\n",
    "val_set = dataset[0:10000]\n",
    "train_set = dataset[10000:]"
   ]
  },
  {
   "cell_type": "markdown",
   "metadata": {
    "id": "b6R3lKnEXA_7"
   },
   "source": [
    "## Define model"
   ]
  },
  {
   "cell_type": "code",
   "execution_count": 9,
   "metadata": {
    "id": "0jkQL5Hz_d-H"
   },
   "outputs": [],
   "source": [
    "# define GDA(LDA/QDA) model\n",
    "class GDA:\n",
    "  def __init__(self, mode=\"lda\"):\n",
    "    self.mode = mode\n",
    "    self.mus = []\n",
    "    self.covs = []\n",
    "    self.prior_probs = []\n",
    "    self.cov_invs, self.cov_logdets = [], []\n",
    "\n",
    "  def train(self, train_set):\n",
    "    \"\"\"\n",
    "    Calculate means and covariance matrixes given x and y\n",
    "    (If mode set to lda, calculate cov's average.)\n",
    "    :param train_set: for a training pts, first dim is its label \n",
    "    \"\"\"\n",
    "    train_set = np.array(train_set)\n",
    "    total = train_set.shape[0]\n",
    "    for label in range(10):\n",
    "      print(\"Computing mean and covariance matrix for class {}\".format(label))\n",
    "      data_tmp = train_set[np.where(train_set[:, 0].astype(np.int64) == label)][:, 1:]\n",
    "      mu = np.mean(data_tmp, axis=0)\n",
    "      self.mus.append(mu)\n",
    "      cov = (data_tmp - mu).T @ (data_tmp - mu) / data_tmp.shape[0]\n",
    "      self.covs.append(cov)\n",
    "      prior_prob = data_tmp.shape[0]/total\n",
    "      self.prior_probs.append(prior_prob)\n",
    "    if self.mode==\"lda\":\n",
    "      self.cov = np.average(self.covs, axis=0)\n",
    "    else:\n",
    "      self.covs = np.array(self.covs)\n",
    "    self.get_invs_dets()\n",
    "      \n",
    "\n",
    "  def get_invs_dets(self):\n",
    "    if self.mode==\"lda\":\n",
    "      tmp = abs(self.cov)\n",
    "      tmp = tmp[np.nonzero(tmp)]\n",
    "      minval = np.min(tmp)\n",
    "      dim = self.cov.shape[0]\n",
    "      new_cov = self.cov + np.eye(dim) * minval * 0.001\n",
    "      self.cov_inv = np.linalg.inv(new_cov)\n",
    "      sign, cov_logdet = np.linalg.slogdet(new_cov)\n",
    "      assert(sign!=0)\n",
    "      self.cov_logdet = sign * cov_logdet\n",
    "    else:\n",
    "      tmp = abs(self.covs)\n",
    "      tmp = tmp[np.nonzero(tmp)]\n",
    "      minval = np.min(tmp)\n",
    "      dim = self.covs.shape[1]\n",
    "      print(minval)\n",
    "      for cov in self.covs:\n",
    "        new_cov = cov + np.eye(dim) * minval * 0.001\n",
    "        cov_inv = np.linalg.inv(new_cov)\n",
    "        sign, cov_logdet = np.linalg.slogdet(new_cov)\n",
    "        assert(sign!=0)\n",
    "        self.cov_invs.append(cov_inv)\n",
    "        self.cov_logdets.append(sign * cov_logdet)\n",
    "\n",
    "\n",
    "  def calc_probs(self, x):\n",
    "    \"\"\"\n",
    "    For a given input x, return its probabilities of belonging to each class\n",
    "    \"\"\"\n",
    "    probs = np.zeros(10,)\n",
    "    for i in range(10):\n",
    "      if self.mode == \"lda\":\n",
    "        # extremely slow when using logpdf directly\n",
    "        # probs[i] = multivariate_normal.logpdf(x, self.mus[i], self.cov, True)\n",
    "        bias = (x-self.mus[i]).reshape((-1, 1))\n",
    "        probs[i] = - bias.T @ self.cov_inv @ bias/2 - self.cov_logdet/2 + np.log(self.prior_probs[i])\n",
    "      else:\n",
    "        bias = (x-self.mus[i]).reshape((-1, 1))\n",
    "        probs[i] = - bias.T @ self.cov_invs[i] @ bias/2 - self.cov_logdets[i]/2 + np.log(self.prior_probs[i])\n",
    "        # probs[i] = multivariate_normal.logpdf(x, self.mus[i], self.covs[i], True) + np.log(self.prior_probs[i])\n",
    "    return probs\n",
    "\n",
    "  def predict(self, datas):\n",
    "    predict_labels = []\n",
    "    datas = np.array(datas)\n",
    "    for i, data in enumerate(datas):\n",
    "      i = (i+1)/datas.shape[0]\n",
    "      print('\\rPredicting：{}{:.2f}%'.format('▉'*int(i*50),(i*100)), end='')\n",
    "      probs = self.calc_probs(data)\n",
    "      label = np.argmax(probs)\n",
    "      predict_labels.append(label)\n",
    "    return np.array(predict_labels)\n",
    "\n",
    "  def eval(self, val_set):\n",
    "    print(\"Evaluating model...\")\n",
    "    labels = val_set[:, 0]\n",
    "    datas = val_set[:, 1:]\n",
    "    predict_labels = self.predict(datas)\n",
    "    acc = accuracy_score(labels, predict_labels)\n",
    "    err_digitwise = []\n",
    "    for i in range(10):\n",
    "      total = np.sum(labels==i)\n",
    "      cnt = np.sum(predict_labels[np.where(labels==i)]!=i)\n",
    "      err_digitwise.append(cnt/total)\n",
    "    return acc, err_digitwise"
   ]
  },
  {
   "cell_type": "markdown",
   "metadata": {
    "id": "-eJx2BTY-u1m"
   },
   "source": [
    "## Train model"
   ]
  },
  {
   "cell_type": "code",
   "execution_count": 10,
   "metadata": {
    "colab": {
     "base_uri": "https://localhost:8080/"
    },
    "id": "yWnjxq8I3bM3",
    "outputId": "9aaa6e63-af66-4c35-ef54-8bced020fcfe"
   },
   "outputs": [
    {
     "name": "stdout",
     "output_type": "stream",
     "text": [
      "Computing mean and covariance matrix for class 0\n",
      "Computing mean and covariance matrix for class 1\n",
      "Computing mean and covariance matrix for class 2\n",
      "Computing mean and covariance matrix for class 3\n",
      "Computing mean and covariance matrix for class 4\n",
      "Computing mean and covariance matrix for class 5\n",
      "Computing mean and covariance matrix for class 6\n",
      "Computing mean and covariance matrix for class 7\n",
      "Computing mean and covariance matrix for class 8\n",
      "Computing mean and covariance matrix for class 9\n",
      "Evaluating model...\n",
      "Predicting：▉▉▉▉▉▉▉▉▉▉▉▉▉▉▉▉▉▉▉▉▉▉▉▉▉▉▉▉▉▉▉▉▉▉▉▉▉▉▉▉▉▉▉▉▉▉▉▉▉▉100.00%\n",
      "Acc: 96.03%\n"
     ]
    }
   ],
   "source": [
    "model = GDA(\"lda\")\n",
    "model.train(train_set)\n",
    "# calculate overall error rate\n",
    "total_acc, lda_err_digitwise = model.eval(val_set)\n",
    "print(f\"\\nAcc: {total_acc*100}%\")"
   ]
  },
  {
   "cell_type": "code",
   "execution_count": 11,
   "metadata": {
    "colab": {
     "base_uri": "https://localhost:8080/"
    },
    "id": "DbFLI0EAmgdf",
    "outputId": "21fc8df4-a297-421a-e5e7-a9d28da233a8"
   },
   "outputs": [
    {
     "name": "stdout",
     "output_type": "stream",
     "text": [
      "Computing mean and covariance matrix for class 0\n",
      "Computing mean and covariance matrix for class 1\n",
      "Computing mean and covariance matrix for class 2\n",
      "Computing mean and covariance matrix for class 3\n",
      "Computing mean and covariance matrix for class 4\n",
      "Computing mean and covariance matrix for class 5\n",
      "Computing mean and covariance matrix for class 6\n",
      "Computing mean and covariance matrix for class 7\n",
      "Computing mean and covariance matrix for class 8\n",
      "Computing mean and covariance matrix for class 9\n"
     ]
    }
   ],
   "source": [
    "model = GDA(\"lda\")\n",
    "model.train(dataset)"
   ]
  },
  {
   "cell_type": "code",
   "execution_count": 13,
   "metadata": {
    "id": "PNTGqiV6fBun"
   },
   "outputs": [],
   "source": [
    "# A code snippet to help you save your results into a kaggle accepted csv\n",
    "def results_to_csv(y_test, name):\n",
    "    y_test = y_test.astype(int)\n",
    "    df = pd.DataFrame({'Category': y_test})\n",
    "    df.index += 1 # Ensures that the index starts at 1\n",
    "    df.to_csv(name+'.csv', index_label='Id')"
   ]
  },
  {
   "cell_type": "code",
   "execution_count": 14,
   "metadata": {
    "colab": {
     "base_uri": "https://localhost:8080/"
    },
    "id": "v-y3gbpZemzf",
    "outputId": "f2ed8bed-ae63-4c88-ecf4-e4da61f74c9a"
   },
   "outputs": [
    {
     "name": "stdout",
     "output_type": "stream",
     "text": [
      "Predicting：▉▉▉▉▉▉▉▉▉▉▉▉▉▉▉▉▉▉▉▉▉▉▉▉▉▉▉▉▉▉▉▉▉▉▉▉▉▉▉▉▉▉▉▉▉▉▉▉▉▉100.00%"
     ]
    }
   ],
   "source": [
    "labels = model.predict(np.array(test_data))\n",
    "results_to_csv(labels, \"lda_submission_mnist\")"
   ]
  }
 ],
 "metadata": {
  "colab": {
   "provenance": []
  },
  "kernelspec": {
   "display_name": "Python 3 (ipykernel)",
   "language": "python",
   "name": "python3"
  },
  "language_info": {
   "codemirror_mode": {
    "name": "ipython",
    "version": 3
   },
   "file_extension": ".py",
   "mimetype": "text/x-python",
   "name": "python",
   "nbconvert_exporter": "python",
   "pygments_lexer": "ipython3",
   "version": "3.9.13"
  }
 },
 "nbformat": 4,
 "nbformat_minor": 1
}
