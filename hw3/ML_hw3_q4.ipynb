{
 "cells": [
  {
   "cell_type": "code",
   "execution_count": null,
   "metadata": {
    "id": "JIXkg4-rf-qG"
   },
   "outputs": [],
   "source": [
    "import numpy as np\n",
    "import matplotlib.pyplot as plt"
   ]
  },
  {
   "cell_type": "code",
   "execution_count": null,
   "metadata": {
    "id": "NyzsrW64gdbi"
   },
   "outputs": [],
   "source": [
    "np.random.seed(13)\n",
    "x1 = np.random.normal(3, 3, 100)\n",
    "x2 = x1/2 + np.random.normal(4, 2, 100)\n",
    "pts = np.vstack((x1, x2))\n",
    "# print(pts.shape)"
   ]
  },
  {
   "cell_type": "code",
   "execution_count": null,
   "metadata": {
    "colab": {
     "base_uri": "https://localhost:8080/"
    },
    "id": "sqVpxctrg7uo",
    "outputId": "cfd88b1c-9496-4d0a-f8b9-7dc732497a7a"
   },
   "outputs": [
    {
     "name": "stdout",
     "output_type": "stream",
     "text": [
      "[3.17522217 5.29657987]\n"
     ]
    }
   ],
   "source": [
    "# q1: the average of sample pts\n",
    "mean_pt = np.mean(pts, axis=1)\n",
    "print(mean_pt)"
   ]
  },
  {
   "cell_type": "code",
   "execution_count": null,
   "metadata": {
    "colab": {
     "base_uri": "https://localhost:8080/"
    },
    "id": "kyIW6YfeiqIV",
    "outputId": "15b9489f-5ecc-4308-83f2-c1e983be73ae"
   },
   "outputs": [
    {
     "name": "stdout",
     "output_type": "stream",
     "text": [
      "[[7.89500814 3.96166649]\n",
      " [3.96166649 4.63218455]]\n"
     ]
    }
   ],
   "source": [
    "# q2: the covariance matrix of sample pts\n",
    "cov = np.cov(pts)\n",
    "print(cov)"
   ]
  },
  {
   "cell_type": "code",
   "execution_count": null,
   "metadata": {
    "colab": {
     "base_uri": "https://localhost:8080/"
    },
    "id": "7rc7RXKXm4n3",
    "outputId": "0ecffc18-e14d-4c7f-e887-e86310bd363b"
   },
   "outputs": [
    {
     "name": "stdout",
     "output_type": "stream",
     "text": [
      "[10.54802231  1.97917038]\n",
      "[[ 0.83089627 -0.55642735]\n",
      " [ 0.55642735  0.83089627]]\n"
     ]
    }
   ],
   "source": [
    "# q3: eigenvalue & eigenvector\n",
    "e_vals, e_vecs = np.linalg.eig(cov)\n",
    "print(e_vals)\n",
    "print(e_vecs)"
   ]
  },
  {
   "cell_type": "code",
   "execution_count": null,
   "metadata": {
    "colab": {
     "base_uri": "https://localhost:8080/",
     "height": 295
    },
    "id": "Q__Jf4kFoPQQ",
    "outputId": "114be7cb-0433-4608-864f-2d82697c4fd7"
   },
   "outputs": [
    {
     "data": {
      "image/png": "[encoded data removed]",
      "text/plain": [
       "<Figure size 432x288 with 1 Axes>"
      ]
     },
     "metadata": {
      "needs_background": "light"
     },
     "output_type": "display_data"
    }
   ],
   "source": [
    "# q4: plot the sample pts and eigenvectors\n",
    "plt.scatter(x1,x2)\n",
    "ax = plt.gca()\n",
    "ax.set_aspect(1)\n",
    "plt.xlabel(\"X1\")\n",
    "plt.ylabel(\"X2\")\n",
    "plt.xlim(-15, 15)\n",
    "plt.ylim(-15, 15)\n",
    "plt.title(\"Q4.4. data pts & eigenvectors\")\n",
    "colors = np.array([\"r\", \"b\"])\n",
    "for i, vec in enumerate(e_vecs):\n",
    "  plt.arrow(mean_pt[0], mean_pt[1], vec[0]*5, vec[1]*5, width=0.3, fc=colors[i])\n",
    "  plt.text((mean_pt[0]+vec[0]*5)/2 + 1, (mean_pt[1]+vec[1]*5)/2 + 1, \"vec\"+str(i), fontsize=15)\n",
    "plt.show()"
   ]
  },
  {
   "cell_type": "code",
   "execution_count": null,
   "metadata": {
    "colab": {
     "base_uri": "https://localhost:8080/",
     "height": 295
    },
    "id": "YDEmLdWTw8TZ",
    "outputId": "a2d4b289-ab1a-4465-f563-315f271162ef"
   },
   "outputs": [
    {
     "data": {
      "image/png": "[encoded data removed]",
      "text/plain": [
       "<Figure size 432x288 with 1 Axes>"
      ]
     },
     "metadata": {
      "needs_background": "light"
     },
     "output_type": "display_data"
    }
   ],
   "source": [
    "# q5: Rotateed pts\n",
    "pts_trans = e_vecs.T @ (pts - np.repeat(mean_pt.reshape(2, -1), 100, axis=1))\n",
    "plt.subplot()\n",
    "plt.scatter(pts_trans[0], pts_trans[1])\n",
    "ax = plt.gca()\n",
    "ax.set_aspect(1)\n",
    "plt.xlabel(\"X1\")\n",
    "plt.ylabel(\"X2\")\n",
    "plt.xlim(-15, 15)\n",
    "plt.ylim(-15, 15)\n",
    "plt.title(\"Q4.5. Rotated pts\")\n",
    "\n",
    "plt.show()"
   ]
  }
 ],
 "metadata": {
  "colab": {
   "provenance": []
  },
  "kernelspec": {
   "display_name": "Python 3 (ipykernel)",
   "language": "python",
   "name": "python3"
  },
  "language_info": {
   "codemirror_mode": {
    "name": "ipython",
    "version": 3
   },
   "file_extension": ".py",
   "mimetype": "text/x-python",
   "name": "python",
   "nbconvert_exporter": "python",
   "pygments_lexer": "ipython3",
   "version": "3.9.13"
  }
 },
 "nbformat": 4,
 "nbformat_minor": 1
}
