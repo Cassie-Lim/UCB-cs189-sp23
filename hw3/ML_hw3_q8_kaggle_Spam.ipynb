{
 "cells": [
  {
   "cell_type": "code",
   "execution_count": null,
   "metadata": {
    "colab": {
     "base_uri": "https://localhost:8080/"
    },
    "id": "WGO16Efo2s-L",
    "outputId": "21b24490-f4c2-4a86-bda9-8c51124ae075"
   },
   "outputs": [
    {
     "name": "stdout",
     "output_type": "stream",
     "text": [
      "Mounted at /content/drive\n"
     ]
    }
   ],
   "source": [
    "from google.colab import drive\n",
    "drive.mount('/content/drive')"
   ]
  },
  {
   "cell_type": "code",
   "execution_count": null,
   "metadata": {
    "id": "-xKxHmmm2toU"
   },
   "outputs": [],
   "source": [
    "import os\n",
    "os.chdir('/content/drive/MyDrive/ML/hw3-2023')"
   ]
  },
  {
   "cell_type": "markdown",
   "metadata": {
    "id": "kHC83NPdW00p"
   },
   "source": [
    "## Import packages"
   ]
  },
  {
   "cell_type": "code",
   "execution_count": null,
   "metadata": {
    "id": "wuOPnVAIuIFD"
   },
   "outputs": [],
   "source": [
    "import sys\n",
    "import pandas as pd\n",
    "\n",
    "if sys.version_info[0] < 3:\n",
    "    raise Exception(\"Python 3 not detected.\")\n",
    "import numpy as np\n",
    "import matplotlib.pyplot as plt\n",
    "from sklearn.metrics import accuracy_score\n",
    "# from scipy.stats import multivariate_normal\n",
    "from skimage.feature import hog, local_binary_pattern, corner_harris"
   ]
  },
  {
   "cell_type": "markdown",
   "metadata": {
    "id": "G6HpfzNdW6VY"
   },
   "source": [
    "## Load data"
   ]
  },
  {
   "cell_type": "code",
   "execution_count": null,
   "metadata": {
    "colab": {
     "base_uri": "https://localhost:8080/"
    },
    "id": "jm_eMXt02aqA",
    "outputId": "ad0774ef-58e8-4c87-e664-b9ecffc94cb8"
   },
   "outputs": [
    {
     "name": "stdout",
     "output_type": "stream",
     "text": [
      "\n",
      "loaded spam data!\n",
      "test_data (1000, 1931)\n",
      "training_data (4172, 1931)\n",
      "training_labels (4172,)\n"
     ]
    }
   ],
   "source": [
    "# load data\n",
    "data_name = \"spam\"\n",
    "data = np.load(f\"./data/{data_name}-data.npz\")\n",
    "print(\"\\nloaded %s data!\" % data_name)\n",
    "fields = \"test_data\", \"training_data\", \"training_labels\"\n",
    "for field in fields:\n",
    "    print(field, data[field].shape)"
   ]
  },
  {
   "cell_type": "markdown",
   "metadata": {
    "id": "HjOmWPqoW8RO"
   },
   "source": [
    "## Extract features"
   ]
  },
  {
   "cell_type": "code",
   "execution_count": null,
   "metadata": {
    "id": "Q7bYsIh9RbHQ"
   },
   "outputs": [],
   "source": [
    "def extract_lbp_features(img, lbp_radius=1, lbp_point=8):\n",
    "    lbp = local_binary_pattern(img, lbp_point, lbp_radius, 'default')\n",
    "    max_bins = int(lbp.max() + 1)\n",
    "    # hist size:256\n",
    "    hist, _ = np.histogram(lbp, density=True, bins=max_bins, range=(0, max_bins))\n",
    "    return hist\n",
    "\n",
    "def extract_hog_features(img):\n",
    "    return hog(img)\n",
    "\n",
    "\n",
    "# def extract_features(data, width=28, height=28, is_grey_image=True):\n",
    "#     image_descriptors = []\n",
    "#     arr = np.array(data)\n",
    "#     print(arr.shape)\n",
    "#     for x in data:\n",
    "#       if is_grey_image:\n",
    "#         x = x.reshape(width, height)\n",
    "#         # normalize\n",
    "#         # x /= np.linalg.norm(x)\n",
    "#         fd = []\n",
    "#       fd = np.append(fd, extract_hog_features(x))\n",
    "#       fd = np.append(fd, extract_lbp_features(x))\n",
    "#       image_descriptors.append(fd)\n",
    "#     return image_descriptors\n",
    "def extract_features(data):\n",
    "    image_descriptors = []\n",
    "    arr = np.array(data)\n",
    "    for x in data:\n",
    "      norm = np.linalg.norm(x)\n",
    "      if norm!=0:\n",
    "        x /= norm\n",
    "      image_descriptors.append(x)\n",
    "    return image_descriptors"
   ]
  },
  {
   "cell_type": "code",
   "execution_count": null,
   "metadata": {
    "id": "QfLm3WnxXGW8"
   },
   "outputs": [],
   "source": [
    "# extract features from raw pixels\n",
    "training_data = extract_features(data[\"training_data\"])\n",
    "test_data = extract_features(data[\"test_data\"])"
   ]
  },
  {
   "cell_type": "code",
   "execution_count": null,
   "metadata": {
    "colab": {
     "base_uri": "https://localhost:8080/"
    },
    "id": "sz7CwYoS2gRh",
    "outputId": "3c4daf72-327f-473b-9757-e141f2f1da7a"
   },
   "outputs": [
    {
     "name": "stdout",
     "output_type": "stream",
     "text": [
      "(4172, 1932)\n"
     ]
    }
   ],
   "source": [
    "data_flat = np.array(training_data)\n",
    "labels = data[\"training_labels\"].reshape(len(data[\"training_labels\"]), -1)\n",
    "dataset = np.concatenate([labels, data_flat], axis=-1)\n",
    "print(dataset.shape)"
   ]
  },
  {
   "cell_type": "code",
   "execution_count": null,
   "metadata": {
    "id": "Q2zsv0FQAMcx"
   },
   "outputs": [],
   "source": [
    "# split data\n",
    "np.random.seed(113)\n",
    "np.random.shuffle(dataset)\n",
    "val_set = dataset[0:72]\n",
    "train_set = dataset[72:]"
   ]
  },
  {
   "cell_type": "markdown",
   "metadata": {
    "id": "b6R3lKnEXA_7"
   },
   "source": [
    "## Define model"
   ]
  },
  {
   "cell_type": "code",
   "execution_count": null,
   "metadata": {
    "id": "0jkQL5Hz_d-H"
   },
   "outputs": [],
   "source": [
    "# define GDA(LDA/QDA) model\n",
    "class GDA:\n",
    "  def __init__(self, mode=\"lda\"):\n",
    "    self.mode = mode\n",
    "    self.mus = []\n",
    "    self.covs = []\n",
    "    self.prior_probs = []\n",
    "    self.cov_invs, self.cov_logdets = [], []\n",
    "\n",
    "  def train(self, train_set):\n",
    "    \"\"\"\n",
    "    Calculate means and covariance matrixes given x and y\n",
    "    (If mode set to lda, calculate cov's average.)\n",
    "    :param train_set: for a training pts, first dim is its label \n",
    "    \"\"\"\n",
    "    train_set = np.array(train_set)\n",
    "    total = train_set.shape[0]\n",
    "    for label in range(2):\n",
    "      print(\"Computing mean and covariance matrix for class {}\".format(label))\n",
    "      data_tmp = train_set[np.where(train_set[:, 0].astype(np.int64) == label)][:, 1:]\n",
    "      mu = np.mean(data_tmp, axis=0)\n",
    "      self.mus.append(mu)\n",
    "      cov = (data_tmp - mu).T @ (data_tmp - mu) / data_tmp.shape[0]\n",
    "      self.covs.append(cov)\n",
    "      prior_prob = data_tmp.shape[0]/total\n",
    "      self.prior_probs.append(prior_prob)\n",
    "    if self.mode==\"lda\":\n",
    "      self.cov = np.average(self.covs, axis=0)\n",
    "    else:\n",
    "      self.covs = np.array(self.covs)\n",
    "    self.get_invs_dets()\n",
    "      \n",
    "\n",
    "  def get_invs_dets(self):\n",
    "    if self.mode==\"lda\":\n",
    "      tmp = abs(self.cov)\n",
    "      tmp = tmp[np.nonzero(tmp)]\n",
    "      minval = np.min(tmp)\n",
    "      dim = self.cov.shape[0]\n",
    "      new_cov = self.cov + np.eye(dim) * minval * 0.001\n",
    "      self.cov_inv = np.linalg.inv(new_cov)\n",
    "      sign, cov_logdet = np.linalg.slogdet(new_cov)\n",
    "      assert(sign!=0)\n",
    "      self.cov_logdet = sign * cov_logdet\n",
    "    else:\n",
    "      tmp = abs(self.covs)\n",
    "      tmp = tmp[np.nonzero(tmp)]\n",
    "      minval = np.min(tmp)\n",
    "      dim = self.covs.shape[1]\n",
    "      print(minval)\n",
    "      for cov in self.covs:\n",
    "        new_cov = cov + np.eye(dim) * minval * 0.001\n",
    "        cov_inv = np.linalg.inv(new_cov)\n",
    "        sign, cov_logdet = np.linalg.slogdet(new_cov)\n",
    "        assert(sign!=0)\n",
    "        self.cov_invs.append(cov_inv)\n",
    "        self.cov_logdets.append(sign * cov_logdet)\n",
    "\n",
    "\n",
    "  def calc_probs(self, x):\n",
    "    \"\"\"\n",
    "    For a given input x, return its probabilities of belonging to each class\n",
    "    \"\"\"\n",
    "    probs = np.zeros(2,)\n",
    "    for i in range(2):\n",
    "      if self.mode == \"lda\":\n",
    "        # extremely slow when using logpdf directly\n",
    "        # probs[i] = multivariate_normal.logpdf(x, self.mus[i], self.cov, True)\n",
    "        bias = (x-self.mus[i]).reshape((-1, 1))\n",
    "        probs[i] = - bias.T @ self.cov_inv @ bias/2 - self.cov_logdet/2 + np.log(self.prior_probs[i])\n",
    "      else:\n",
    "        bias = (x-self.mus[i]).reshape((-1, 1))\n",
    "        probs[i] = - bias.T @ self.cov_invs[i] @ bias/2 - self.cov_logdets[i]/2 + np.log(self.prior_probs[i])\n",
    "        # probs[i] = multivariate_normal.logpdf(x, self.mus[i], self.covs[i], True) + np.log(self.prior_probs[i])\n",
    "    return probs\n",
    "\n",
    "  def predict(self, datas):\n",
    "    predict_labels = []\n",
    "    datas = np.array(datas)\n",
    "    for i, data in enumerate(datas):\n",
    "      i = (i+1)/datas.shape[0]\n",
    "      print('\\rPredicting：{}{:.2f}%'.format('▉'*int(i*50),(i*100)), end='')\n",
    "      probs = self.calc_probs(data)\n",
    "      label = np.argmax(probs)\n",
    "      predict_labels.append(label)\n",
    "    return np.array(predict_labels)\n",
    "\n",
    "  def eval(self, val_set):\n",
    "    print(\"Evaluating model...\")\n",
    "    labels = val_set[:, 0]\n",
    "    datas = val_set[:, 1:]\n",
    "    predict_labels = self.predict(datas)\n",
    "    acc = accuracy_score(labels, predict_labels)\n",
    "    return acc"
   ]
  },
  {
   "cell_type": "code",
   "execution_count": null,
   "metadata": {
    "id": "PNTGqiV6fBun"
   },
   "outputs": [],
   "source": [
    "def results_to_csv(y_test, name):\n",
    "    y_test = y_test.astype(int)\n",
    "    df = pd.DataFrame({'Category': y_test})\n",
    "    df.index += 1 # Ensures that the index starts at 1\n",
    "    df.to_csv(name+'.csv', index_label='Id')"
   ]
  },
  {
   "cell_type": "markdown",
   "metadata": {
    "id": "-eJx2BTY-u1m"
   },
   "source": [
    "## Train model"
   ]
  },
  {
   "cell_type": "code",
   "execution_count": null,
   "metadata": {
    "colab": {
     "base_uri": "https://localhost:8080/"
    },
    "id": "N28XWS52Qw64",
    "outputId": "1fd25db6-6565-4823-9e79-c7bcf291d517"
   },
   "outputs": [
    {
     "name": "stdout",
     "output_type": "stream",
     "text": [
      "Computing mean and covariance matrix for class 0\n",
      "Computing mean and covariance matrix for class 1\n",
      "4.0048990305143524e-13\n",
      "Evaluating model...\n",
      "Predicting：▉▉▉▉▉▉▉▉▉▉▉▉▉▉▉▉▉▉▉▉▉▉▉▉▉▉▉▉▉▉▉▉▉▉▉▉▉▉▉▉▉▉▉▉▉▉▉▉▉▉100.00%\n",
      "Acc: 84.72222222222221%\n"
     ]
    }
   ],
   "source": [
    "model = GDA(\"gda\")\n",
    "model.train(train_set)\n",
    "# calculate overall error rate\n",
    "total_acc = model.eval(val_set)\n",
    "print(f\"\\nAcc: {total_acc*100}%\")"
   ]
  },
  {
   "cell_type": "code",
   "execution_count": null,
   "metadata": {
    "colab": {
     "base_uri": "https://localhost:8080/"
    },
    "id": "yWnjxq8I3bM3",
    "outputId": "d7eca87b-d8a5-4a43-fe52-d66104d26c88"
   },
   "outputs": [
    {
     "name": "stdout",
     "output_type": "stream",
     "text": [
      "Computing mean and covariance matrix for class 0\n",
      "Computing mean and covariance matrix for class 1\n",
      "Evaluating model...\n",
      "Predicting：▉▉▉▉▉▉▉▉▉▉▉▉▉▉▉▉▉▉▉▉▉▉▉▉▉▉▉▉▉▉▉▉▉▉▉▉▉▉▉▉▉▉▉▉▉▉▉▉▉▉100.00%\n",
      "Acc: 93.05555555555556%\n"
     ]
    }
   ],
   "source": [
    "model = GDA(\"lda\")\n",
    "model.train(train_set)\n",
    "# calculate overall error rate\n",
    "total_acc = model.eval(val_set)\n",
    "print(f\"\\nAcc: {total_acc*100}%\")"
   ]
  },
  {
   "cell_type": "code",
   "execution_count": null,
   "metadata": {
    "colab": {
     "base_uri": "https://localhost:8080/"
    },
    "id": "nVitnlgkUV7s",
    "outputId": "86e06ff9-30f3-456f-b80f-22699481b587"
   },
   "outputs": [
    {
     "name": "stdout",
     "output_type": "stream",
     "text": [
      "Computing mean and covariance matrix for class 0\n",
      "Computing mean and covariance matrix for class 1\n"
     ]
    }
   ],
   "source": [
    "model = GDA(\"lda\")\n",
    "model.train(dataset)"
   ]
  },
  {
   "cell_type": "code",
   "execution_count": null,
   "metadata": {
    "colab": {
     "base_uri": "https://localhost:8080/"
    },
    "id": "v-y3gbpZemzf",
    "outputId": "0177b064-ff79-4a5e-bfd7-2da7c6c1729d"
   },
   "outputs": [
    {
     "name": "stdout",
     "output_type": "stream",
     "text": [
      "Predicting：▉▉▉▉▉▉▉▉▉▉▉▉▉▉▉▉▉▉▉▉▉▉▉▉▉▉▉▉▉▉▉▉▉▉▉▉▉▉▉▉▉▉▉▉▉▉▉▉▉▉100.00%"
     ]
    }
   ],
   "source": [
    "labels = model.predict(np.array(test_data))\n",
    "results_to_csv(labels, \"lda_submission_spam\")"
   ]
  }
 ],
 "metadata": {
  "colab": {
   "provenance": [],
   "toc_visible": true
  },
  "kernelspec": {
   "display_name": "Python 3 (ipykernel)",
   "language": "python",
   "name": "python3"
  },
  "language_info": {
   "codemirror_mode": {
    "name": "ipython",
    "version": 3
   },
   "file_extension": ".py",
   "mimetype": "text/x-python",
   "name": "python",
   "nbconvert_exporter": "python",
   "pygments_lexer": "ipython3",
   "version": "3.9.13"
  }
 },
 "nbformat": 4,
 "nbformat_minor": 1
}
