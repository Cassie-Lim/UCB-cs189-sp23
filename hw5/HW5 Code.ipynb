{
 "cells": [
  {
   "cell_type": "markdown",
   "metadata": {
    "id": "zcXlE0qr6qQc"
   },
   "source": [
    "## Mount on colab drive"
   ]
  },
  {
   "cell_type": "code",
   "execution_count": 1,
   "metadata": {
    "colab": {
     "base_uri": "https://localhost:8080/"
    },
    "id": "mw6Ohigz1A9Z",
    "outputId": "4f667d95-7226-4151-ced9-5d8ebf37b79a"
   },
   "outputs": [
    {
     "name": "stdout",
     "output_type": "stream",
     "text": [
      "Mounted at /content/drive\n"
     ]
    }
   ],
   "source": [
    "from google.colab import drive\n",
    "drive.mount('/content/drive')"
   ]
  },
  {
   "cell_type": "code",
   "execution_count": 2,
   "metadata": {
    "id": "y_m5uDq04cxh"
   },
   "outputs": [],
   "source": [
    "import os\n",
    "DRIVE_PATH = '/content/drive/MyDrive/ML/hw5/dataset'\n",
    "DRIVE_PYTHON_PATH = DRIVE_PATH.replace('\\\\', '')\n",
    "if not os.path.exists(DRIVE_PYTHON_PATH):\n",
    "  %mkdir $DRIVE_PATH\n",
    "\n",
    "## the space in `My Drive` causes some issues,\n",
    "## make a symlink to avoid this\n",
    "SYM_PATH = '/content/dataset'\n",
    "if not os.path.exists(SYM_PATH):\n",
    "  !ln -s $DRIVE_PATH $SYM_PATH"
   ]
  },
  {
   "cell_type": "markdown",
   "metadata": {
    "id": "-nt3-i1O6uym"
   },
   "source": [
    "## Import packages & define helper fns"
   ]
  },
  {
   "cell_type": "code",
   "execution_count": 3,
   "metadata": {
    "id": "rRC0DOzt0QDW"
   },
   "outputs": [],
   "source": [
    "import io\n",
    "from collections import Counter\n",
    "\n",
    "import numpy as np\n",
    "import pandas as pd\n",
    "import scipy.io\n",
    "import sklearn.model_selection\n",
    "import sklearn.tree\n",
    "from sklearn.model_selection import cross_validate\n",
    "from sklearn.model_selection import train_test_split\n",
    "from numpy import genfromtxt\n",
    "from scipy import stats\n",
    "from sklearn.base import BaseEstimator, ClassifierMixin\n",
    "from sklearn.metrics import accuracy_score\n",
    "import matplotlib.pyplot as plt\n",
    "import pydot"
   ]
  },
  {
   "cell_type": "code",
   "execution_count": 4,
   "metadata": {
    "id": "bUnLFoar0Vnq"
   },
   "outputs": [],
   "source": [
    "eps = 1e-5  # a small number\n",
    "\n",
    "def avg_surprise(y):\n",
    "    total = len(y)\n",
    "    labels = np.unique(y)\n",
    "    h = 0\n",
    "    for label in labels:\n",
    "        p = np.sum(y == label)/total\n",
    "        h += -p * np.log(p)\n",
    "    return h\n",
    "def gini_impurity(y):\n",
    "    total = len(y)\n",
    "    labels = np.unique(y)\n",
    "    h = 0\n",
    "    for label in labels:\n",
    "        p = np.sum(y == label) / total\n",
    "        h += -p * np.log(1-p)\n",
    "    return h\n",
    "\n",
    "    \n",
    "def preprocess(data, fill_mode=True, min_freq=10, onehot_cols=[]):\n",
    "    # fill_mode = False\n",
    "\n",
    "    # Temporarily assign -1 to missing data\n",
    "    data[data == ''] = '-1'\n",
    "\n",
    "    # Hash the columns (used for handling strings)\n",
    "    onehot_encoding = []\n",
    "    onehot_features = []\n",
    "    for col in onehot_cols:\n",
    "        counter = Counter(data[:, col])\n",
    "        for term in counter.most_common():\n",
    "            if term[0] == b'-1':\n",
    "                continue\n",
    "            if term[-1] <= min_freq:\n",
    "                break\n",
    "            onehot_features.append(term[0])\n",
    "            onehot_encoding.append((data[:, col] == term[0]).astype(float))\n",
    "        data[:, col] = '0'\n",
    "    onehot_encoding = np.array(onehot_encoding).T\n",
    "    data = np.hstack([np.array(data, dtype=float), np.array(onehot_encoding)])\n",
    "\n",
    "    # Replace missing data with the mode value. We use the mode instead of\n",
    "    # the mean or median because this makes more sense for categorical\n",
    "    # features such as gender or cabin type, which are not ordered.\n",
    "    if fill_mode:\n",
    "        for i in range(data.shape[-1]):\n",
    "            mode = stats.mode(data[((data[:, i] < -1 - eps) +\n",
    "                                    (data[:, i] > -1 + eps))][:, i], keepdims=True).mode[0]\n",
    "            data[(data[:, i] > -1 - eps) * (data[:, i] < -1 + eps)][:, i] = mode\n",
    "\n",
    "    return data, onehot_features\n",
    "\n",
    "\n",
    "def evaluate(clf):\n",
    "    print(\"Cross validation\", sklearn.model_selection.cross_val_score(clf, X, y))\n",
    "    if hasattr(clf, \"decision_trees\"):\n",
    "        counter = Counter([t.tree_.feature[0] for t in clf.decision_trees])\n",
    "        first_splits = [(features[term[0]], term[1]) for term in counter.most_common()]\n",
    "        print(\"First splits\", first_splits)\n",
    "        \n",
    "def results_to_csv(y_test, name):\n",
    "    y_test = y_test.astype(int)\n",
    "    df = pd.DataFrame({'Category': y_test})\n",
    "    df.index += 1 # Ensures that the index starts at 1\n",
    "    df.to_csv(name+'.csv', index_label='Id')"
   ]
  },
  {
   "cell_type": "markdown",
   "metadata": {
    "id": "F3QasnMe6zXr"
   },
   "source": [
    "## 4.1  Define Decision Trees"
   ]
  },
  {
   "cell_type": "code",
   "execution_count": 24,
   "metadata": {
    "id": "hUQ5ZQ_J0Vgr"
   },
   "outputs": [],
   "source": [
    "class DecisionTree:\n",
    "    def __init__(self, max_depth=3, feature_labels=None, m=None):\n",
    "        self.max_depth = max_depth\n",
    "        self.features = feature_labels\n",
    "        self.left, self.right = None, None  # for non-leaf nodes\n",
    "        self.split_idx, self.thresh = None, None  # for non-leaf nodes\n",
    "        self.data, self.pred = None, None  # for leaf nodes\n",
    "        self.m = m\n",
    "    @staticmethod\n",
    "    def information_gain(X, y, thresh):\n",
    "        # TODO: implement information gain function\n",
    "        y_l = y[np.where(X>=thresh)]\n",
    "        y_r = y[np.where(X<thresh)]\n",
    "        h_after = (avg_surprise(y_l) * len(y_l) + avg_surprise(y_r) * len(y_r)) / len(y)\n",
    "        return avg_surprise(y) - h_after\n",
    "    @staticmethod\n",
    "    # def gini_impurity(X, y, thresh):\n",
    "    #     # TODO: implement gini impurity function\n",
    "    #     pass\n",
    "    def gini_gain(X, y, thresh):\n",
    "        # TODO: implement gini impurity function\n",
    "        y_l = y[np.where(X >= thresh)]\n",
    "        y_r = y[np.where(X < thresh)]\n",
    "        impurity_after = (gini_impurity(y_l) * len(y_l) + gini_impurity(y_r) * len(y_r)) / len(y)\n",
    "        return avg_surprise(y) - impurity_after\n",
    "\n",
    "    def split(self, X, y, idx, thresh):\n",
    "        X0, idx0, X1, idx1 = self.split_test(X, idx=idx, thresh=thresh)\n",
    "        y0, y1 = y[idx0], y[idx1]\n",
    "        return X0, y0, X1, y1\n",
    "\n",
    "    def split_test(self, X, idx, thresh):\n",
    "        idx0 = np.where(X[:, idx] < thresh)[0]\n",
    "        idx1 = np.where(X[:, idx] >= thresh)[0]\n",
    "        X0, X1 = X[idx0, :], X[idx1, :]\n",
    "        return X0, idx0, X1, idx1\n",
    "\n",
    "    def fit(self, X, y):\n",
    "        if self.m:\n",
    "            m_index = np.random.choice(list(range(X.shape[1])), self.m, replace=False)\n",
    "            X_tmp = X[:, m_index]\n",
    "        else:\n",
    "            X_tmp = X\n",
    "        if self.max_depth > 0:\n",
    "            # compute entropy gain for all single-dimension splits,\n",
    "            # thresholding with a linear interpolation of 10 values\n",
    "            gains = []\n",
    "            # The following logic prevents thresholding on exactly the minimum\n",
    "            # or maximum values, which may not lead to any meaningful node\n",
    "            # splits.\n",
    "            thresh = np.array([\n",
    "                np.linspace(np.min(X[:, i]) + eps, np.max(X[:, i]) - eps, num=10)\n",
    "                for i in range(X.shape[1])\n",
    "            ])\n",
    "            for i in range(X_tmp.shape[1]):\n",
    "                gains.append([self.information_gain(X_tmp[:, i], y, t) for t in thresh[i, :]])\n",
    "\n",
    "            gains = np.nan_to_num(np.array(gains))\n",
    "            self.split_idx, thresh_idx = np.unravel_index(np.argmax(gains), gains.shape)\n",
    "            self.thresh = thresh[self.split_idx, thresh_idx]\n",
    "\n",
    "            if self.m:\n",
    "                self.split_idx = m_index[self.split_idx]\n",
    "\n",
    "            X0, y0, X1, y1 = self.split(X, y, idx=self.split_idx, thresh=self.thresh)\n",
    "            if X0.size > 0 and X1.size > 0:\n",
    "                self.left = DecisionTree(\n",
    "                    max_depth=self.max_depth - 1, feature_labels=self.features)\n",
    "                self.left.fit(X0, y0)\n",
    "                self.right = DecisionTree(\n",
    "                    max_depth=self.max_depth - 1, feature_labels=self.features)\n",
    "                self.right.fit(X1, y1)\n",
    "            else:\n",
    "                self.max_depth = 0\n",
    "                self.data, self.labels = X, y\n",
    "                self.pred = stats.mode(y, keepdims=True).mode[0]\n",
    "        else:\n",
    "            self.data, self.labels = X, y\n",
    "            self.pred = stats.mode(y, keepdims=True).mode[0]\n",
    "        return self\n",
    "\n",
    "    def predict(self, X):\n",
    "        if self.max_depth == 0:\n",
    "            return self.pred * np.ones(X.shape[0])\n",
    "        else:\n",
    "            X0, idx0, X1, idx1 = self.split_test(X, idx=self.split_idx, thresh=self.thresh)\n",
    "            yhat = np.zeros(X.shape[0])\n",
    "            yhat[idx0] = self.left.predict(X0)\n",
    "            yhat[idx1] = self.right.predict(X1)\n",
    "            return yhat\n",
    "\n",
    "    def __repr__(self):\n",
    "        if self.max_depth == 0:\n",
    "            return \"%s (%s)\" % (self.pred, self.labels.size)\n",
    "        else:\n",
    "            return \"[%s < %s: %s | %s]\" % (self.features[self.split_idx],\n",
    "                                           self.thresh, self.left.__repr__(),\n",
    "                                           self.right.__repr__())\n",
    "\n",
    "    def get_tree_structure(self):\n",
    "      tree_str = \"digraph Tree {\\nnode [shape=box, fontname=\\\"helvetica\\\"] ;\\nedge [fontname=\\\"helvetica\\\"] ;\"\n",
    "      tmp_str, _, _ = self.recursive_tree_str(0)\n",
    "      tree_str += tmp_str\n",
    "      tree_str += \"\\n}\"\n",
    "      return tree_str\n",
    "\n",
    "\n",
    "    # return str, cur of current node, cur of the last traversed node in the branch\n",
    "    def recursive_tree_str(self, cur):\n",
    "      if self.max_depth == 0:\n",
    "          return \"\\n%d [label = \\\"[%s (%s)]\\\"];\" % (cur, self.pred, self.labels.size), cur, cur\n",
    "      else:\n",
    "          my_cur = cur\n",
    "          base_str = \"\\n%d [label = \\\"%s < %s\\\"];\" % (cur, self.features[self.split_idx], self.thresh)\n",
    "          cur += 1\n",
    "          l_str, l_cur , l_last_cur = self.left.recursive_tree_str(cur)\n",
    "          cur = l_last_cur  + 1\n",
    "          r_str, r_cur , r_last_cur = self.right.recursive_tree_str(cur)\n",
    "          base_str += \"\\n%d -> %d;\" % (my_cur, l_cur)\n",
    "          base_str += \"\\n%d -> %d;\" % (my_cur, r_cur)\n",
    "          base_str += l_str + r_str\n",
    "          return base_str, my_cur, r_last_cur"
   ]
  },
  {
   "cell_type": "markdown",
   "metadata": {
    "id": "UmsI-_N97A7C"
   },
   "source": [
    "## 4.2 Define Random Forest"
   ]
  },
  {
   "cell_type": "code",
   "execution_count": null,
   "metadata": {
    "id": "wpRY-qx10cGd"
   },
   "outputs": [],
   "source": [
    "class BaggedTrees(BaseEstimator, ClassifierMixin):\n",
    "    def __init__(self, params=None, sample_size=600, n=200):\n",
    "        if params is None:\n",
    "            params = {}\n",
    "        self.params = params\n",
    "        self.n = n\n",
    "        self.sp_size = sample_size\n",
    "        self.decision_trees = [\n",
    "            sklearn.tree.DecisionTreeClassifier(random_state=i, **self.params)\n",
    "            for i in range(self.n)\n",
    "        ]\n",
    "\n",
    "    def fit(self, X, y):\n",
    "        # TODO: implement function\n",
    "        dataset = np.concatenate((X,y.reshape(-1,1)), axis=1)\n",
    "        for tree in self.decision_trees:\n",
    "          index = np.random.choice(list(range(len(y))), self.sp_size, replace=True)\n",
    "          tmp_dataset = dataset[index,:]\n",
    "          X_rand = tmp_dataset[:, 0:-1]\n",
    "          Y_rand = tmp_dataset[:, -1]\n",
    "          # X_rand = tmp_dataset[0:sp_size, 0:-1]\n",
    "          # Y_rand = tmp_dataset[0:sp_size, -1]\n",
    "          tree.fit(X_rand, Y_rand)\n",
    "\n",
    "    def predict(self, X):\n",
    "        # TODO: implement function\n",
    "        predictions = []\n",
    "        for tree in self.decision_trees:\n",
    "            predictions.append(tree.predict(X))\n",
    "        return np.round(np.mean(predictions, axis=0))\n",
    "\n",
    "class RandomForest(BaggedTrees):\n",
    "    def __init__(self, params=None, sample_size=600, n=200, m=1, features=None):\n",
    "        if params is None:\n",
    "            params = {}\n",
    "        # TODO: implement function\n",
    "        self.params = params\n",
    "        self.sp_size = sample_size\n",
    "        self.n = n\n",
    "        self.m = m\n",
    "        self.decision_trees = [\n",
    "            DecisionTree(max_depth=params[\"max_depth\"], feature_labels=features, m=m)\n",
    "            for i in range(self.n)\n",
    "        ]\n",
    "\n",
    "class BoostedRandomForest(RandomForest):\n",
    "    def fit(self, X, y):\n",
    "        self.w = np.ones(X.shape[0]) / X.shape[0]  # Weights on data\n",
    "        self.a = np.zeros(self.n)  # Weights on decision trees\n",
    "        # TODO: implement function\n",
    "        return self\n",
    "\n",
    "    def predict(self, X):\n",
    "        # TODO: implement function\n",
    "        pass\n"
   ]
  },
  {
   "cell_type": "markdown",
   "metadata": {
    "id": "SK_1y64Y7Ol-"
   },
   "source": [
    "## Train on titanic"
   ]
  },
  {
   "cell_type": "markdown",
   "metadata": {
    "id": "zEj8ii_VuLLP"
   },
   "source": [
    "### (0) Load data"
   ]
  },
  {
   "cell_type": "code",
   "execution_count": 7,
   "metadata": {
    "colab": {
     "base_uri": "https://localhost:8080/"
    },
    "id": "3wBx2C1duJxJ",
    "outputId": "d7a8eb52-c325-4a73-9f86-3289816c68e6"
   },
   "outputs": [
    {
     "name": "stdout",
     "output_type": "stream",
     "text": [
      "\n",
      "\n",
      "Part (b): preprocessing the titanic dataset\n",
      "Features: ['sex', 'age', 'sibsp', 'parch', 'ticket', 'fare', 'cabin', 'embarked', 'survived', 'male', 'female', '-1', 'S', 'C', 'Q']\n",
      "Train/test size: (999, 15) (310, 15)\n"
     ]
    }
   ],
   "source": [
    "dataset = \"titanic\"\n",
    "params = {\n",
    "    \"max_depth\": 5,\n",
    "    # \"random_state\": 6,\n",
    "    \"min_samples_leaf\": 10,\n",
    "}\n",
    "N = 100\n",
    "\n",
    "# Load titanic data\n",
    "path_train = './dataset/titanic/titanic_training.csv'\n",
    "data = genfromtxt(path_train, delimiter=',', dtype=None, encoding=None)\n",
    "path_test = './dataset/titanic/titanic_test_data.csv'\n",
    "test_data = genfromtxt(path_test, delimiter=',', dtype=None, encoding=None)\n",
    "y = data[1:, -1]  # label = survived\n",
    "class_names = [\"Died\", \"Survived\"]\n",
    "labeled_idx = np.where(y != '')[0]\n",
    "\n",
    "y = np.array(y[labeled_idx])\n",
    "y = y.astype(float).astype(int)\n",
    "\n",
    "\n",
    "print(\"\\n\\nPart (b): preprocessing the titanic dataset\")\n",
    "X, onehot_features = preprocess(data[1:, :-1], onehot_cols=[1, 5, 7, 8])\n",
    "X = X[labeled_idx, :]\n",
    "Z, _ = preprocess(test_data[1:, :], onehot_cols=[1, 5, 7, 8])\n",
    "assert X.shape[1] == Z.shape[1]\n",
    "features = list(data[0, 1:]) + onehot_features\n",
    "\n",
    "print(\"Features:\", features)\n",
    "print(\"Train/test size:\", X.shape, Z.shape)\n"
   ]
  },
  {
   "cell_type": "markdown",
   "metadata": {
    "id": "UhCN3a3-rwQS"
   },
   "source": [
    "### (1) With decision Tree"
   ]
  },
  {
   "cell_type": "code",
   "execution_count": null,
   "metadata": {
    "colab": {
     "base_uri": "https://localhost:8080/",
     "height": 554
    },
    "id": "ioAorqMJ0leh",
    "outputId": "f2373c95-4b86-4e2f-a4ba-f365f4f53d9a"
   },
   "outputs": [
    {
     "name": "stdout",
     "output_type": "stream",
     "text": [
      "\n",
      "\n",
      "Part 0: constant classifier\n",
      "Accuracy 0.6166166166166166\n",
      "\n",
      "\n",
      "Part (a-b): simplified decision tree\n",
      "*****************************************************************************\n",
      "For depth 1: train acc is 0.78, val acc is 0.80\n",
      "For depth 5: train acc is 0.83, val acc is 0.81\n"
     ]
    },
    {
     "ename": "KeyboardInterrupt",
     "evalue": "ignored",
     "output_type": "error",
     "traceback": [
      "\u001b[0;31m---------------------------------------------------------------------------\u001b[0m",
      "\u001b[0;31mKeyboardInterrupt\u001b[0m                         Traceback (most recent call last)",
      "\u001b[0;32m<ipython-input-94-02e5b6480cdc>\u001b[0m in \u001b[0;36m<module>\u001b[0;34m\u001b[0m\n\u001b[1;32m     13\u001b[0m \u001b[0;32mfor\u001b[0m \u001b[0mdepth\u001b[0m \u001b[0;32min\u001b[0m \u001b[0mmax_depths\u001b[0m\u001b[0;34m:\u001b[0m\u001b[0;34m\u001b[0m\u001b[0;34m\u001b[0m\u001b[0m\n\u001b[1;32m     14\u001b[0m     \u001b[0mdt\u001b[0m \u001b[0;34m=\u001b[0m \u001b[0mDecisionTree\u001b[0m\u001b[0;34m(\u001b[0m\u001b[0mmax_depth\u001b[0m\u001b[0;34m=\u001b[0m\u001b[0mdepth\u001b[0m\u001b[0;34m,\u001b[0m \u001b[0mfeature_labels\u001b[0m\u001b[0;34m=\u001b[0m\u001b[0mfeatures\u001b[0m\u001b[0;34m)\u001b[0m\u001b[0;34m\u001b[0m\u001b[0;34m\u001b[0m\u001b[0m\n\u001b[0;32m---> 15\u001b[0;31m     \u001b[0mdt\u001b[0m\u001b[0;34m.\u001b[0m\u001b[0mfit\u001b[0m\u001b[0;34m(\u001b[0m\u001b[0mX_train\u001b[0m\u001b[0;34m,\u001b[0m \u001b[0mY_train\u001b[0m\u001b[0;34m)\u001b[0m\u001b[0;34m\u001b[0m\u001b[0;34m\u001b[0m\u001b[0m\n\u001b[0m\u001b[1;32m     16\u001b[0m     \u001b[0mpredict_train\u001b[0m \u001b[0;34m=\u001b[0m \u001b[0mdt\u001b[0m\u001b[0;34m.\u001b[0m\u001b[0mpredict\u001b[0m\u001b[0;34m(\u001b[0m\u001b[0mX_train\u001b[0m\u001b[0;34m)\u001b[0m\u001b[0;34m\u001b[0m\u001b[0;34m\u001b[0m\u001b[0m\n\u001b[1;32m     17\u001b[0m     \u001b[0mpredict_val\u001b[0m \u001b[0;34m=\u001b[0m \u001b[0mdt\u001b[0m\u001b[0;34m.\u001b[0m\u001b[0mpredict\u001b[0m\u001b[0;34m(\u001b[0m\u001b[0mX_val\u001b[0m\u001b[0;34m)\u001b[0m\u001b[0;34m\u001b[0m\u001b[0;34m\u001b[0m\u001b[0m\n",
      "\u001b[0;32m<ipython-input-93-926f99e00022>\u001b[0m in \u001b[0;36mfit\u001b[0;34m(self, X, y)\u001b[0m\n\u001b[1;32m     67\u001b[0m                 self.left = DecisionTree(\n\u001b[1;32m     68\u001b[0m                     max_depth=self.max_depth - 1, feature_labels=self.features)\n\u001b[0;32m---> 69\u001b[0;31m                 \u001b[0mself\u001b[0m\u001b[0;34m.\u001b[0m\u001b[0mleft\u001b[0m\u001b[0;34m.\u001b[0m\u001b[0mfit\u001b[0m\u001b[0;34m(\u001b[0m\u001b[0mX0\u001b[0m\u001b[0;34m,\u001b[0m \u001b[0my0\u001b[0m\u001b[0;34m)\u001b[0m\u001b[0;34m\u001b[0m\u001b[0;34m\u001b[0m\u001b[0m\n\u001b[0m\u001b[1;32m     70\u001b[0m                 self.right = DecisionTree(\n\u001b[1;32m     71\u001b[0m                     max_depth=self.max_depth - 1, feature_labels=self.features)\n",
      "\u001b[0;32m<ipython-input-93-926f99e00022>\u001b[0m in \u001b[0;36mfit\u001b[0;34m(self, X, y)\u001b[0m\n\u001b[1;32m     70\u001b[0m                 self.right = DecisionTree(\n\u001b[1;32m     71\u001b[0m                     max_depth=self.max_depth - 1, feature_labels=self.features)\n\u001b[0;32m---> 72\u001b[0;31m                 \u001b[0mself\u001b[0m\u001b[0;34m.\u001b[0m\u001b[0mright\u001b[0m\u001b[0;34m.\u001b[0m\u001b[0mfit\u001b[0m\u001b[0;34m(\u001b[0m\u001b[0mX1\u001b[0m\u001b[0;34m,\u001b[0m \u001b[0my1\u001b[0m\u001b[0;34m)\u001b[0m\u001b[0;34m\u001b[0m\u001b[0;34m\u001b[0m\u001b[0m\n\u001b[0m\u001b[1;32m     73\u001b[0m             \u001b[0;32melse\u001b[0m\u001b[0;34m:\u001b[0m\u001b[0;34m\u001b[0m\u001b[0;34m\u001b[0m\u001b[0m\n\u001b[1;32m     74\u001b[0m                 \u001b[0mself\u001b[0m\u001b[0;34m.\u001b[0m\u001b[0mmax_depth\u001b[0m \u001b[0;34m=\u001b[0m \u001b[0;36m0\u001b[0m\u001b[0;34m\u001b[0m\u001b[0;34m\u001b[0m\u001b[0m\n",
      "\u001b[0;32m<ipython-input-93-926f99e00022>\u001b[0m in \u001b[0;36mfit\u001b[0;34m(self, X, y)\u001b[0m\n\u001b[1;32m     67\u001b[0m                 self.left = DecisionTree(\n\u001b[1;32m     68\u001b[0m                     max_depth=self.max_depth - 1, feature_labels=self.features)\n\u001b[0;32m---> 69\u001b[0;31m                 \u001b[0mself\u001b[0m\u001b[0;34m.\u001b[0m\u001b[0mleft\u001b[0m\u001b[0;34m.\u001b[0m\u001b[0mfit\u001b[0m\u001b[0;34m(\u001b[0m\u001b[0mX0\u001b[0m\u001b[0;34m,\u001b[0m \u001b[0my0\u001b[0m\u001b[0;34m)\u001b[0m\u001b[0;34m\u001b[0m\u001b[0;34m\u001b[0m\u001b[0m\n\u001b[0m\u001b[1;32m     70\u001b[0m                 self.right = DecisionTree(\n\u001b[1;32m     71\u001b[0m                     max_depth=self.max_depth - 1, feature_labels=self.features)\n",
      "\u001b[0;32m<ipython-input-93-926f99e00022>\u001b[0m in \u001b[0;36mfit\u001b[0;34m(self, X, y)\u001b[0m\n\u001b[1;32m     67\u001b[0m                 self.left = DecisionTree(\n\u001b[1;32m     68\u001b[0m                     max_depth=self.max_depth - 1, feature_labels=self.features)\n\u001b[0;32m---> 69\u001b[0;31m                 \u001b[0mself\u001b[0m\u001b[0;34m.\u001b[0m\u001b[0mleft\u001b[0m\u001b[0;34m.\u001b[0m\u001b[0mfit\u001b[0m\u001b[0;34m(\u001b[0m\u001b[0mX0\u001b[0m\u001b[0;34m,\u001b[0m \u001b[0my0\u001b[0m\u001b[0;34m)\u001b[0m\u001b[0;34m\u001b[0m\u001b[0;34m\u001b[0m\u001b[0m\n\u001b[0m\u001b[1;32m     70\u001b[0m                 self.right = DecisionTree(\n\u001b[1;32m     71\u001b[0m                     max_depth=self.max_depth - 1, feature_labels=self.features)\n",
      "\u001b[0;32m<ipython-input-93-926f99e00022>\u001b[0m in \u001b[0;36mfit\u001b[0;34m(self, X, y)\u001b[0m\n\u001b[1;32m     70\u001b[0m                 self.right = DecisionTree(\n\u001b[1;32m     71\u001b[0m                     max_depth=self.max_depth - 1, feature_labels=self.features)\n\u001b[0;32m---> 72\u001b[0;31m                 \u001b[0mself\u001b[0m\u001b[0;34m.\u001b[0m\u001b[0mright\u001b[0m\u001b[0;34m.\u001b[0m\u001b[0mfit\u001b[0m\u001b[0;34m(\u001b[0m\u001b[0mX1\u001b[0m\u001b[0;34m,\u001b[0m \u001b[0my1\u001b[0m\u001b[0;34m)\u001b[0m\u001b[0;34m\u001b[0m\u001b[0;34m\u001b[0m\u001b[0m\n\u001b[0m\u001b[1;32m     73\u001b[0m             \u001b[0;32melse\u001b[0m\u001b[0;34m:\u001b[0m\u001b[0;34m\u001b[0m\u001b[0;34m\u001b[0m\u001b[0m\n\u001b[1;32m     74\u001b[0m                 \u001b[0mself\u001b[0m\u001b[0;34m.\u001b[0m\u001b[0mmax_depth\u001b[0m \u001b[0;34m=\u001b[0m \u001b[0;36m0\u001b[0m\u001b[0;34m\u001b[0m\u001b[0;34m\u001b[0m\u001b[0m\n",
      "\u001b[0;32m<ipython-input-93-926f99e00022>\u001b[0m in \u001b[0;36mfit\u001b[0;34m(self, X, y)\u001b[0m\n\u001b[1;32m     67\u001b[0m                 self.left = DecisionTree(\n\u001b[1;32m     68\u001b[0m                     max_depth=self.max_depth - 1, feature_labels=self.features)\n\u001b[0;32m---> 69\u001b[0;31m                 \u001b[0mself\u001b[0m\u001b[0;34m.\u001b[0m\u001b[0mleft\u001b[0m\u001b[0;34m.\u001b[0m\u001b[0mfit\u001b[0m\u001b[0;34m(\u001b[0m\u001b[0mX0\u001b[0m\u001b[0;34m,\u001b[0m \u001b[0my0\u001b[0m\u001b[0;34m)\u001b[0m\u001b[0;34m\u001b[0m\u001b[0;34m\u001b[0m\u001b[0m\n\u001b[0m\u001b[1;32m     70\u001b[0m                 self.right = DecisionTree(\n\u001b[1;32m     71\u001b[0m                     max_depth=self.max_depth - 1, feature_labels=self.features)\n",
      "\u001b[0;32m<ipython-input-93-926f99e00022>\u001b[0m in \u001b[0;36mfit\u001b[0;34m(self, X, y)\u001b[0m\n\u001b[1;32m     70\u001b[0m                 self.right = DecisionTree(\n\u001b[1;32m     71\u001b[0m                     max_depth=self.max_depth - 1, feature_labels=self.features)\n\u001b[0;32m---> 72\u001b[0;31m                 \u001b[0mself\u001b[0m\u001b[0;34m.\u001b[0m\u001b[0mright\u001b[0m\u001b[0;34m.\u001b[0m\u001b[0mfit\u001b[0m\u001b[0;34m(\u001b[0m\u001b[0mX1\u001b[0m\u001b[0;34m,\u001b[0m \u001b[0my1\u001b[0m\u001b[0;34m)\u001b[0m\u001b[0;34m\u001b[0m\u001b[0;34m\u001b[0m\u001b[0m\n\u001b[0m\u001b[1;32m     73\u001b[0m             \u001b[0;32melse\u001b[0m\u001b[0;34m:\u001b[0m\u001b[0;34m\u001b[0m\u001b[0;34m\u001b[0m\u001b[0m\n\u001b[1;32m     74\u001b[0m                 \u001b[0mself\u001b[0m\u001b[0;34m.\u001b[0m\u001b[0mmax_depth\u001b[0m \u001b[0;34m=\u001b[0m \u001b[0;36m0\u001b[0m\u001b[0;34m\u001b[0m\u001b[0;34m\u001b[0m\u001b[0m\n",
      "\u001b[0;32m<ipython-input-93-926f99e00022>\u001b[0m in \u001b[0;36mfit\u001b[0;34m(self, X, y)\u001b[0m\n\u001b[1;32m     54\u001b[0m             ])\n\u001b[1;32m     55\u001b[0m             \u001b[0;32mfor\u001b[0m \u001b[0mi\u001b[0m \u001b[0;32min\u001b[0m \u001b[0mrange\u001b[0m\u001b[0;34m(\u001b[0m\u001b[0mX_tmp\u001b[0m\u001b[0;34m.\u001b[0m\u001b[0mshape\u001b[0m\u001b[0;34m[\u001b[0m\u001b[0;36m1\u001b[0m\u001b[0;34m]\u001b[0m\u001b[0;34m)\u001b[0m\u001b[0;34m:\u001b[0m\u001b[0;34m\u001b[0m\u001b[0;34m\u001b[0m\u001b[0m\n\u001b[0;32m---> 56\u001b[0;31m                 \u001b[0mgains\u001b[0m\u001b[0;34m.\u001b[0m\u001b[0mappend\u001b[0m\u001b[0;34m(\u001b[0m\u001b[0;34m[\u001b[0m\u001b[0mself\u001b[0m\u001b[0;34m.\u001b[0m\u001b[0minformation_gain\u001b[0m\u001b[0;34m(\u001b[0m\u001b[0mX_tmp\u001b[0m\u001b[0;34m[\u001b[0m\u001b[0;34m:\u001b[0m\u001b[0;34m,\u001b[0m \u001b[0mi\u001b[0m\u001b[0;34m]\u001b[0m\u001b[0;34m,\u001b[0m \u001b[0my\u001b[0m\u001b[0;34m,\u001b[0m \u001b[0mt\u001b[0m\u001b[0;34m)\u001b[0m \u001b[0;32mfor\u001b[0m \u001b[0mt\u001b[0m \u001b[0;32min\u001b[0m \u001b[0mthresh\u001b[0m\u001b[0;34m[\u001b[0m\u001b[0mi\u001b[0m\u001b[0;34m,\u001b[0m \u001b[0;34m:\u001b[0m\u001b[0;34m]\u001b[0m\u001b[0;34m]\u001b[0m\u001b[0;34m)\u001b[0m\u001b[0;34m\u001b[0m\u001b[0;34m\u001b[0m\u001b[0m\n\u001b[0m\u001b[1;32m     57\u001b[0m \u001b[0;34m\u001b[0m\u001b[0m\n\u001b[1;32m     58\u001b[0m             \u001b[0mgains\u001b[0m \u001b[0;34m=\u001b[0m \u001b[0mnp\u001b[0m\u001b[0;34m.\u001b[0m\u001b[0mnan_to_num\u001b[0m\u001b[0;34m(\u001b[0m\u001b[0mnp\u001b[0m\u001b[0;34m.\u001b[0m\u001b[0marray\u001b[0m\u001b[0;34m(\u001b[0m\u001b[0mgains\u001b[0m\u001b[0;34m)\u001b[0m\u001b[0;34m)\u001b[0m\u001b[0;34m\u001b[0m\u001b[0;34m\u001b[0m\u001b[0m\n",
      "\u001b[0;32m<ipython-input-93-926f99e00022>\u001b[0m in \u001b[0;36m<listcomp>\u001b[0;34m(.0)\u001b[0m\n\u001b[1;32m     54\u001b[0m             ])\n\u001b[1;32m     55\u001b[0m             \u001b[0;32mfor\u001b[0m \u001b[0mi\u001b[0m \u001b[0;32min\u001b[0m \u001b[0mrange\u001b[0m\u001b[0;34m(\u001b[0m\u001b[0mX_tmp\u001b[0m\u001b[0;34m.\u001b[0m\u001b[0mshape\u001b[0m\u001b[0;34m[\u001b[0m\u001b[0;36m1\u001b[0m\u001b[0;34m]\u001b[0m\u001b[0;34m)\u001b[0m\u001b[0;34m:\u001b[0m\u001b[0;34m\u001b[0m\u001b[0;34m\u001b[0m\u001b[0m\n\u001b[0;32m---> 56\u001b[0;31m                 \u001b[0mgains\u001b[0m\u001b[0;34m.\u001b[0m\u001b[0mappend\u001b[0m\u001b[0;34m(\u001b[0m\u001b[0;34m[\u001b[0m\u001b[0mself\u001b[0m\u001b[0;34m.\u001b[0m\u001b[0minformation_gain\u001b[0m\u001b[0;34m(\u001b[0m\u001b[0mX_tmp\u001b[0m\u001b[0;34m[\u001b[0m\u001b[0;34m:\u001b[0m\u001b[0;34m,\u001b[0m \u001b[0mi\u001b[0m\u001b[0;34m]\u001b[0m\u001b[0;34m,\u001b[0m \u001b[0my\u001b[0m\u001b[0;34m,\u001b[0m \u001b[0mt\u001b[0m\u001b[0;34m)\u001b[0m \u001b[0;32mfor\u001b[0m \u001b[0mt\u001b[0m \u001b[0;32min\u001b[0m \u001b[0mthresh\u001b[0m\u001b[0;34m[\u001b[0m\u001b[0mi\u001b[0m\u001b[0;34m,\u001b[0m \u001b[0;34m:\u001b[0m\u001b[0;34m]\u001b[0m\u001b[0;34m]\u001b[0m\u001b[0;34m)\u001b[0m\u001b[0;34m\u001b[0m\u001b[0;34m\u001b[0m\u001b[0m\n\u001b[0m\u001b[1;32m     57\u001b[0m \u001b[0;34m\u001b[0m\u001b[0m\n\u001b[1;32m     58\u001b[0m             \u001b[0mgains\u001b[0m \u001b[0;34m=\u001b[0m \u001b[0mnp\u001b[0m\u001b[0;34m.\u001b[0m\u001b[0mnan_to_num\u001b[0m\u001b[0;34m(\u001b[0m\u001b[0mnp\u001b[0m\u001b[0;34m.\u001b[0m\u001b[0marray\u001b[0m\u001b[0;34m(\u001b[0m\u001b[0mgains\u001b[0m\u001b[0;34m)\u001b[0m\u001b[0;34m)\u001b[0m\u001b[0;34m\u001b[0m\u001b[0;34m\u001b[0m\u001b[0m\n",
      "\u001b[0;32m<ipython-input-93-926f99e00022>\u001b[0m in \u001b[0;36minformation_gain\u001b[0;34m(X, y, thresh)\u001b[0m\n\u001b[1;32m     13\u001b[0m         \u001b[0my_r\u001b[0m \u001b[0;34m=\u001b[0m \u001b[0my\u001b[0m\u001b[0;34m[\u001b[0m\u001b[0mnp\u001b[0m\u001b[0;34m.\u001b[0m\u001b[0mwhere\u001b[0m\u001b[0;34m(\u001b[0m\u001b[0mX\u001b[0m\u001b[0;34m<\u001b[0m\u001b[0mthresh\u001b[0m\u001b[0;34m)\u001b[0m\u001b[0;34m]\u001b[0m\u001b[0;34m\u001b[0m\u001b[0;34m\u001b[0m\u001b[0m\n\u001b[1;32m     14\u001b[0m         \u001b[0mh_after\u001b[0m \u001b[0;34m=\u001b[0m \u001b[0;34m(\u001b[0m\u001b[0mavg_surprise\u001b[0m\u001b[0;34m(\u001b[0m\u001b[0my_l\u001b[0m\u001b[0;34m)\u001b[0m \u001b[0;34m*\u001b[0m \u001b[0mlen\u001b[0m\u001b[0;34m(\u001b[0m\u001b[0my_l\u001b[0m\u001b[0;34m)\u001b[0m \u001b[0;34m+\u001b[0m \u001b[0mavg_surprise\u001b[0m\u001b[0;34m(\u001b[0m\u001b[0my_r\u001b[0m\u001b[0;34m)\u001b[0m \u001b[0;34m*\u001b[0m \u001b[0mlen\u001b[0m\u001b[0;34m(\u001b[0m\u001b[0my_r\u001b[0m\u001b[0;34m)\u001b[0m\u001b[0;34m)\u001b[0m \u001b[0;34m/\u001b[0m \u001b[0mlen\u001b[0m\u001b[0;34m(\u001b[0m\u001b[0my\u001b[0m\u001b[0;34m)\u001b[0m\u001b[0;34m\u001b[0m\u001b[0;34m\u001b[0m\u001b[0m\n\u001b[0;32m---> 15\u001b[0;31m         \u001b[0;32mreturn\u001b[0m \u001b[0mavg_surprise\u001b[0m\u001b[0;34m(\u001b[0m\u001b[0my\u001b[0m\u001b[0;34m)\u001b[0m \u001b[0;34m-\u001b[0m \u001b[0mh_after\u001b[0m\u001b[0;34m\u001b[0m\u001b[0;34m\u001b[0m\u001b[0m\n\u001b[0m\u001b[1;32m     16\u001b[0m     \u001b[0;34m@\u001b[0m\u001b[0mstaticmethod\u001b[0m\u001b[0;34m\u001b[0m\u001b[0;34m\u001b[0m\u001b[0m\n\u001b[1;32m     17\u001b[0m     \u001b[0;31m# def gini_impurity(X, y, thresh):\u001b[0m\u001b[0;34m\u001b[0m\u001b[0;34m\u001b[0m\u001b[0m\n",
      "\u001b[0;32m<ipython-input-4-ff9808076edf>\u001b[0m in \u001b[0;36mavg_surprise\u001b[0;34m(y)\u001b[0m\n\u001b[1;32m      6\u001b[0m     \u001b[0mh\u001b[0m \u001b[0;34m=\u001b[0m \u001b[0;36m0\u001b[0m\u001b[0;34m\u001b[0m\u001b[0;34m\u001b[0m\u001b[0m\n\u001b[1;32m      7\u001b[0m     \u001b[0;32mfor\u001b[0m \u001b[0mlabel\u001b[0m \u001b[0;32min\u001b[0m \u001b[0mlabels\u001b[0m\u001b[0;34m:\u001b[0m\u001b[0;34m\u001b[0m\u001b[0;34m\u001b[0m\u001b[0m\n\u001b[0;32m----> 8\u001b[0;31m         \u001b[0mp\u001b[0m \u001b[0;34m=\u001b[0m \u001b[0mnp\u001b[0m\u001b[0;34m.\u001b[0m\u001b[0msum\u001b[0m\u001b[0;34m(\u001b[0m\u001b[0my\u001b[0m \u001b[0;34m==\u001b[0m \u001b[0mlabel\u001b[0m\u001b[0;34m)\u001b[0m\u001b[0;34m/\u001b[0m\u001b[0mtotal\u001b[0m\u001b[0;34m\u001b[0m\u001b[0;34m\u001b[0m\u001b[0m\n\u001b[0m\u001b[1;32m      9\u001b[0m         \u001b[0mh\u001b[0m \u001b[0;34m+=\u001b[0m \u001b[0;34m-\u001b[0m\u001b[0mp\u001b[0m \u001b[0;34m*\u001b[0m \u001b[0mnp\u001b[0m\u001b[0;34m.\u001b[0m\u001b[0mlog\u001b[0m\u001b[0;34m(\u001b[0m\u001b[0mp\u001b[0m\u001b[0;34m)\u001b[0m\u001b[0;34m\u001b[0m\u001b[0;34m\u001b[0m\u001b[0m\n\u001b[1;32m     10\u001b[0m     \u001b[0;32mreturn\u001b[0m \u001b[0mh\u001b[0m\u001b[0;34m\u001b[0m\u001b[0;34m\u001b[0m\u001b[0m\n",
      "\u001b[0;31mKeyboardInterrupt\u001b[0m: "
     ]
    }
   ],
   "source": [
    "print(\"\\n\\nPart 0: constant classifier\")\n",
    "print(\"Accuracy\", 1 - np.sum(y) / y.size)\n",
    "\n",
    "# Basic decision tree\n",
    "print(\"\\n\\nPart (a-b): simplified decision tree\")\n",
    "print(\"*****************************************************************************\")\n",
    "max_depths = [1, 5, 10, 20, 30, 40]\n",
    "# max_depths = [1, 3, 5, 7, 10, 20]\n",
    "train_acc_list = []\n",
    "val_acc_list = []\n",
    "X_train, X_val, Y_train, Y_val = train_test_split(X, y, test_size=0.2, random_state=13)\n",
    "\n",
    "for depth in max_depths:\n",
    "    dt = DecisionTree(max_depth=depth, feature_labels=features)\n",
    "    dt.fit(X_train, Y_train)\n",
    "    predict_train = dt.predict(X_train)\n",
    "    predict_val = dt.predict(X_val)\n",
    "    train_acc = accuracy_score(Y_train, predict_train)\n",
    "    train_acc_list.append(train_acc)\n",
    "    val_acc = accuracy_score(Y_val, predict_val)\n",
    "    print(f\"For depth {depth}: train acc is {train_acc:.2f}, val acc is {val_acc:.2f}\")\n",
    "    val_acc_list.append(val_acc)\n",
    "\n",
    "plt.plot(max_depths, train_acc_list, label=\"train_acc\")\n",
    "plt.plot(max_depths, val_acc_list, label=\"val_acc\")\n",
    "plt.title(\"Titanic: training & validation accuracy curve over max_depth\")\n",
    "plt.xlabel(\"max_depth\")\n",
    "plt.ylabel(\"Acc\")\n",
    "plt.legend()\n",
    "plt.show()\n",
    "print(\"*****************************************************************************\")\n",
    "\n",
    "# dt = DecisionTree(max_depth=3, feature_labels=features)\n",
    "# dt.fit(X, y)\n",
    "# print(\"Predictions\", dt.predict(Z)[:100])\n",
    "\n",
    "print(\"\\n\\nPart (c): sklearn's decision tree\")\n",
    "clf = sklearn.tree.DecisionTreeClassifier(random_state=0, **params)\n",
    "clf.fit(X, y)\n",
    "evaluate(clf)\n",
    "out = io.StringIO()\n",
    "\n",
    "# You may want to install \"gprof2dot\"\n",
    "sklearn.tree.export_graphviz(\n",
    "    clf, out_file=out, feature_names=features, class_names=class_names)\n",
    "graph = pydot.graph_from_dot_data(out.getvalue())\n",
    "pydot.graph_from_dot_data(out.getvalue())[0].write_pdf(\"%s-tree.pdf\" % dataset)\n",
    "\n",
    "# TODO: implement and evaluate!\n"
   ]
  },
  {
   "cell_type": "markdown",
   "metadata": {
    "id": "o5NgLk2ar2MX"
   },
   "source": [
    "### (2) With random forest"
   ]
  },
  {
   "cell_type": "code",
   "execution_count": null,
   "metadata": {
    "colab": {
     "base_uri": "https://localhost:8080/",
     "height": 400
    },
    "id": "TUSItbIWHJ7x",
    "outputId": "64ed0a9b-be22-48ad-f9ef-8de3e5d43cac"
   },
   "outputs": [
    {
     "name": "stdout",
     "output_type": "stream",
     "text": [
      "For m 1: train acc is 0.61, val acc is 0.62\n",
      "For m 2: train acc is 0.82, val acc is 0.80\n",
      "For m 3: train acc is 0.82, val acc is 0.80\n",
      "For m 5: train acc is 0.82, val acc is 0.80\n",
      "For m 7: train acc is 0.82, val acc is 0.81\n",
      "For m 9: train acc is 0.82, val acc is 0.81\n"
     ]
    },
    {
     "data": {
      "image/png": "[encoded data removed]",
      "text/plain": [
       "<Figure size 432x288 with 1 Axes>"
      ]
     },
     "metadata": {
      "needs_background": "light"
     },
     "output_type": "display_data"
    }
   ],
   "source": [
    "np.random.seed(13)\n",
    "m_list = [1, 2, 3, 5, 7, 9]\n",
    "train_acc_list = []\n",
    "val_acc_list = []\n",
    "X_train, X_val, Y_train, Y_val = train_test_split(X, y, test_size=0.2, random_state=13)\n",
    "for m in m_list:\n",
    "    dt = RandomForest(params, sample_size=300, m=m, features=features)\n",
    "    dt.fit(X_train, Y_train)\n",
    "    predict_train = dt.predict(X_train)\n",
    "    predict_val = dt.predict(X_val)\n",
    "    train_acc = accuracy_score(Y_train, predict_train)\n",
    "    train_acc_list.append(train_acc)\n",
    "    val_acc = accuracy_score(Y_val, predict_val)\n",
    "    print(f\"For m {m}: train acc is {train_acc:.2f}, val acc is {val_acc:.2f}\")\n",
    "    val_acc_list.append(val_acc)\n",
    "\n",
    "plt.plot(max_depths, train_acc_list, label=\"train_acc\")\n",
    "plt.plot(max_depths, val_acc_list, label=\"val_acc\")\n",
    "plt.title(\"Titanic: training & validation accuracy curve over max_depth with RF\")\n",
    "plt.xlabel(\"max_depth\")\n",
    "plt.ylabel(\"Acc\")\n",
    "plt.show()"
   ]
  },
  {
   "cell_type": "markdown",
   "metadata": {
    "id": "7aBSi8zfr-8e"
   },
   "source": [
    "### (3) Best perf"
   ]
  },
  {
   "cell_type": "code",
   "execution_count": 25,
   "metadata": {
    "id": "o3DXWE0WsGFy"
   },
   "outputs": [],
   "source": [
    "dt = DecisionTree(max_depth=7, feature_labels=features)\n",
    "dt.fit(X, y)\n",
    "predict_test = dt.predict(Z)\n",
    "results_to_csv(predict_test, \"decision_tree_titanic\")\n",
    "\n",
    "# dt = RandomForest(params, sample_size=300, m=7, features=features)\n",
    "# dt.fit(X, y)\n",
    "# predict_test = dt.predict(Z)\n",
    "# results_to_csv(predict_test, \"random_forest_titanic\")"
   ]
  },
  {
   "cell_type": "markdown",
   "metadata": {
    "id": "hqStPlEeHNsO"
   },
   "source": [
    "### (4) Visualize"
   ]
  },
  {
   "cell_type": "code",
   "execution_count": 26,
   "metadata": {
    "colab": {
     "base_uri": "https://localhost:8080/"
    },
    "id": "_dQq_NT5HdEA",
    "outputId": "a7fea039-257e-43c2-f551-7923ae99df5c"
   },
   "outputs": [
    {
     "name": "stdout",
     "output_type": "stream",
     "text": [
      "[male < 1e-05: [sex < 2.11111: [S < 1e-05: [sibsp < 49.55555: [sex < 1.00001: 1 (48) | 1 (10)] | [sibsp < 50.00001: [ticket < 1e-05: 0 (1) | 1 (1)] | 1 (10)]] | [sibsp < 58.888883333333325: [sex < 1.00001: [ticket < 1.11111: 1 (41) | [sibsp < 2.00001: 0 (1) | 1 (11)]] | [sibsp < -0.99999: 0 (1) | [sibsp < 56.99999: 1 (62) | 0 (1)]]] | [sex < 1.00001: [cabin < 79.09445000000001: 1 (3) | [sibsp < 60.00001: 1 (1) | 0 (1)]] | 0 (1)]]] | [cabin < 27.683336666666666: [S < 1e-05: [cabin < 15.916665555555555: [cabin < 6.75001: 0 (1) | [cabin < 13.787983333333333: 1 (40) | 0 (18)]] | 1 (7)] | [-1 < 1e-05: 1 (4) | [cabin < 23.414836666666666: [sibsp < 48.777772222222225: 0 (74) | 1 (1)] | 0 (4)]]] | [cabin < 32.52778555555555: [cabin < 31.38749: 0 (5) | 1 (2)] | 0 (11)]]] | [-1 < 1e-05: [cabin < 284.6273322222222: [cabin < 175.33333000000005: [parch < 1e-05: [cabin < 34.102783333333335: [cabin < 7.560183333333332: 0 (4) | 0 (39)] | [ticket < 1.11111: 0 (23) | 1 (3)]] | [sibsp < 14.046327777777776: [sex < 1.00001: 1 (2) | 1 (1)] | [cabin < 137.79119222222224: 0 (31) | 0 (2)]]] | 0 (8)] | 1 (2)] | [ticket < 1e-05: [sibsp < 32.333334444444446: [sibsp < 28.333325555555557: [sibsp < 27.99999: [cabin < 30.140738888888887: 0 (263) | 0 (20)] | [sex < 1.00001: 0 (2) | 0 (14)]] | [S < 1e-05: [sibsp < 29.00001: 1 (3) | 0 (5)] | [sibsp < 30.666665555555557: 0 (20) | 0 (17)]]] | [cabin < 88.76666333333334: [cabin < 7.911118888888888: [sex < 1.00001: 0 (1) | 0 (31)] | [cabin < 7.925009999999999: 0 (4) | 0 (68)]] | 1 (1)]] | [sibsp < 12.555561111111109: [parch < 1.7777833333333335: [S < 1e-05: [sex < 2.00001: 1 (1) | 1 (5)] | [sibsp < 0.3888966666666668: 0 (4) | 1 (12)]] | [sibsp < 3.8888900000000004: [sibsp < 2.111105555555555: 0 (6) | 1 (1)] | 0 (11)]] | [cabin < 24.744485555555556: [parch < 1.0000033333333334: [C < 1e-05: 0 (10) | 0 (5)] | 1 (1)] | [sex < 1.00001: 0 (2) | [sex < 2.00001: 0 (8) | 0 (9)]]]]]]]\n",
      "digraph Tree {\n",
      "node [shape=box, fontname=\"helvetica\"] ;\n",
      "edge [fontname=\"helvetica\"] ;\n",
      "0 [label = \"male < 1e-05\"];\n",
      "0 -> 1;\n",
      "0 -> 52;\n",
      "1 [label = \"sex < 2.11111\"];\n",
      "1 -> 2;\n",
      "1 -> 31;\n",
      "2 [label = \"S < 1e-05\"];\n",
      "2 -> 3;\n",
      "2 -> 12;\n",
      "3 [label = \"sibsp < 49.55555\"];\n",
      "3 -> 4;\n",
      "3 -> 7;\n",
      "4 [label = \"sex < 1.00001\"];\n",
      "4 -> 5;\n",
      "4 -> 6;\n",
      "5 [label = \"[1 (48)]\"];\n",
      "6 [label = \"[1 (10)]\"];\n",
      "7 [label = \"sibsp < 50.00001\"];\n",
      "7 -> 8;\n",
      "7 -> 11;\n",
      "8 [label = \"ticket < 1e-05\"];\n",
      "8 -> 9;\n",
      "8 -> 10;\n",
      "9 [label = \"[0 (1)]\"];\n",
      "10 [label = \"[1 (1)]\"];\n",
      "11 [label = \"[1 (10)]\"];\n",
      "12 [label = \"sibsp < 58.888883333333325\"];\n",
      "12 -> 13;\n",
      "12 -> 24;\n",
      "13 [label = \"sex < 1.00001\"];\n",
      "13 -> 14;\n",
      "13 -> 19;\n",
      "14 [label = \"ticket < 1.11111\"];\n",
      "14 -> 15;\n",
      "14 -> 16;\n",
      "15 [label = \"[1 (41)]\"];\n",
      "16 [label = \"sibsp < 2.00001\"];\n",
      "16 -> 17;\n",
      "16 -> 18;\n",
      "17 [label = \"[0 (1)]\"];\n",
      "18 [label = \"[1 (11)]\"];\n",
      "19 [label = \"sibsp < -0.99999\"];\n",
      "19 -> 20;\n",
      "19 -> 21;\n",
      "20 [label = \"[0 (1)]\"];\n",
      "21 [label = \"sibsp < 56.99999\"];\n",
      "21 -> 22;\n",
      "21 -> 23;\n",
      "22 [label = \"[1 (62)]\"];\n",
      "23 [label = \"[0 (1)]\"];\n",
      "24 [label = \"sex < 1.00001\"];\n",
      "24 -> 25;\n",
      "24 -> 30;\n",
      "25 [label = \"cabin < 79.09445000000001\"];\n",
      "25 -> 26;\n",
      "25 -> 27;\n",
      "26 [label = \"[1 (3)]\"];\n",
      "27 [label = \"sibsp < 60.00001\"];\n",
      "27 -> 28;\n",
      "27 -> 29;\n",
      "28 [label = \"[1 (1)]\"];\n",
      "29 [label = \"[0 (1)]\"];\n",
      "30 [label = \"[0 (1)]\"];\n",
      "31 [label = \"cabin < 27.683336666666666\"];\n",
      "31 -> 32;\n",
      "31 -> 47;\n",
      "32 [label = \"S < 1e-05\"];\n",
      "32 -> 33;\n",
      "32 -> 40;\n",
      "33 [label = \"cabin < 15.916665555555555\"];\n",
      "33 -> 34;\n",
      "33 -> 39;\n",
      "34 [label = \"cabin < 6.75001\"];\n",
      "34 -> 35;\n",
      "34 -> 36;\n",
      "35 [label = \"[0 (1)]\"];\n",
      "36 [label = \"cabin < 13.787983333333333\"];\n",
      "36 -> 37;\n",
      "36 -> 38;\n",
      "37 [label = \"[1 (40)]\"];\n",
      "38 [label = \"[0 (18)]\"];\n",
      "39 [label = \"[1 (7)]\"];\n",
      "40 [label = \"-1 < 1e-05\"];\n",
      "40 -> 41;\n",
      "40 -> 42;\n",
      "41 [label = \"[1 (4)]\"];\n",
      "42 [label = \"cabin < 23.414836666666666\"];\n",
      "42 -> 43;\n",
      "42 -> 46;\n",
      "43 [label = \"sibsp < 48.777772222222225\"];\n",
      "43 -> 44;\n",
      "43 -> 45;\n",
      "44 [label = \"[0 (74)]\"];\n",
      "45 [label = \"[1 (1)]\"];\n",
      "46 [label = \"[0 (4)]\"];\n",
      "47 [label = \"cabin < 32.52778555555555\"];\n",
      "47 -> 48;\n",
      "47 -> 51;\n",
      "48 [label = \"cabin < 31.38749\"];\n",
      "48 -> 49;\n",
      "48 -> 50;\n",
      "49 [label = \"[0 (5)]\"];\n",
      "50 [label = \"[1 (2)]\"];\n",
      "51 [label = \"[0 (11)]\"];\n",
      "52 [label = \"-1 < 1e-05\"];\n",
      "52 -> 53;\n",
      "52 -> 72;\n",
      "53 [label = \"cabin < 284.6273322222222\"];\n",
      "53 -> 54;\n",
      "53 -> 71;\n",
      "54 [label = \"cabin < 175.33333000000005\"];\n",
      "54 -> 55;\n",
      "54 -> 70;\n",
      "55 [label = \"parch < 1e-05\"];\n",
      "55 -> 56;\n",
      "55 -> 63;\n",
      "56 [label = \"cabin < 34.102783333333335\"];\n",
      "56 -> 57;\n",
      "56 -> 60;\n",
      "57 [label = \"cabin < 7.560183333333332\"];\n",
      "57 -> 58;\n",
      "57 -> 59;\n",
      "58 [label = \"[0 (4)]\"];\n",
      "59 [label = \"[0 (39)]\"];\n",
      "60 [label = \"ticket < 1.11111\"];\n",
      "60 -> 61;\n",
      "60 -> 62;\n",
      "61 [label = \"[0 (23)]\"];\n",
      "62 [label = \"[1 (3)]\"];\n",
      "63 [label = \"sibsp < 14.046327777777776\"];\n",
      "63 -> 64;\n",
      "63 -> 67;\n",
      "64 [label = \"sex < 1.00001\"];\n",
      "64 -> 65;\n",
      "64 -> 66;\n",
      "65 [label = \"[1 (2)]\"];\n",
      "66 [label = \"[1 (1)]\"];\n",
      "67 [label = \"cabin < 137.79119222222224\"];\n",
      "67 -> 68;\n",
      "67 -> 69;\n",
      "68 [label = \"[0 (31)]\"];\n",
      "69 [label = \"[0 (2)]\"];\n",
      "70 [label = \"[0 (8)]\"];\n",
      "71 [label = \"[1 (2)]\"];\n",
      "72 [label = \"ticket < 1e-05\"];\n",
      "72 -> 73;\n",
      "72 -> 98;\n",
      "73 [label = \"sibsp < 32.333334444444446\"];\n",
      "73 -> 74;\n",
      "73 -> 89;\n",
      "74 [label = \"sibsp < 28.333325555555557\"];\n",
      "74 -> 75;\n",
      "74 -> 82;\n",
      "75 [label = \"sibsp < 27.99999\"];\n",
      "75 -> 76;\n",
      "75 -> 79;\n",
      "76 [label = \"cabin < 30.140738888888887\"];\n",
      "76 -> 77;\n",
      "76 -> 78;\n",
      "77 [label = \"[0 (263)]\"];\n",
      "78 [label = \"[0 (20)]\"];\n",
      "79 [label = \"sex < 1.00001\"];\n",
      "79 -> 80;\n",
      "79 -> 81;\n",
      "80 [label = \"[0 (2)]\"];\n",
      "81 [label = \"[0 (14)]\"];\n",
      "82 [label = \"S < 1e-05\"];\n",
      "82 -> 83;\n",
      "82 -> 86;\n",
      "83 [label = \"sibsp < 29.00001\"];\n",
      "83 -> 84;\n",
      "83 -> 85;\n",
      "84 [label = \"[1 (3)]\"];\n",
      "85 [label = \"[0 (5)]\"];\n",
      "86 [label = \"sibsp < 30.666665555555557\"];\n",
      "86 -> 87;\n",
      "86 -> 88;\n",
      "87 [label = \"[0 (20)]\"];\n",
      "88 [label = \"[0 (17)]\"];\n",
      "89 [label = \"cabin < 88.76666333333334\"];\n",
      "89 -> 90;\n",
      "89 -> 97;\n",
      "90 [label = \"cabin < 7.911118888888888\"];\n",
      "90 -> 91;\n",
      "90 -> 94;\n",
      "91 [label = \"sex < 1.00001\"];\n",
      "91 -> 92;\n",
      "91 -> 93;\n",
      "92 [label = \"[0 (1)]\"];\n",
      "93 [label = \"[0 (31)]\"];\n",
      "94 [label = \"cabin < 7.925009999999999\"];\n",
      "94 -> 95;\n",
      "94 -> 96;\n",
      "95 [label = \"[0 (4)]\"];\n",
      "96 [label = \"[0 (68)]\"];\n",
      "97 [label = \"[1 (1)]\"];\n",
      "98 [label = \"sibsp < 12.555561111111109\"];\n",
      "98 -> 99;\n",
      "98 -> 112;\n",
      "99 [label = \"parch < 1.7777833333333335\"];\n",
      "99 -> 100;\n",
      "99 -> 107;\n",
      "100 [label = \"S < 1e-05\"];\n",
      "100 -> 101;\n",
      "100 -> 104;\n",
      "101 [label = \"sex < 2.00001\"];\n",
      "101 -> 102;\n",
      "101 -> 103;\n",
      "102 [label = \"[1 (1)]\"];\n",
      "103 [label = \"[1 (5)]\"];\n",
      "104 [label = \"sibsp < 0.3888966666666668\"];\n",
      "104 -> 105;\n",
      "104 -> 106;\n",
      "105 [label = \"[0 (4)]\"];\n",
      "106 [label = \"[1 (12)]\"];\n",
      "107 [label = \"sibsp < 3.8888900000000004\"];\n",
      "107 -> 108;\n",
      "107 -> 111;\n",
      "108 [label = \"sibsp < 2.111105555555555\"];\n",
      "108 -> 109;\n",
      "108 -> 110;\n",
      "109 [label = \"[0 (6)]\"];\n",
      "110 [label = \"[1 (1)]\"];\n",
      "111 [label = \"[0 (11)]\"];\n",
      "112 [label = \"cabin < 24.744485555555556\"];\n",
      "112 -> 113;\n",
      "112 -> 118;\n",
      "113 [label = \"parch < 1.0000033333333334\"];\n",
      "113 -> 114;\n",
      "113 -> 117;\n",
      "114 [label = \"C < 1e-05\"];\n",
      "114 -> 115;\n",
      "114 -> 116;\n",
      "115 [label = \"[0 (10)]\"];\n",
      "116 [label = \"[0 (5)]\"];\n",
      "117 [label = \"[1 (1)]\"];\n",
      "118 [label = \"sex < 1.00001\"];\n",
      "118 -> 119;\n",
      "118 -> 120;\n",
      "119 [label = \"[0 (2)]\"];\n",
      "120 [label = \"sex < 2.00001\"];\n",
      "120 -> 121;\n",
      "120 -> 122;\n",
      "121 [label = \"[0 (8)]\"];\n",
      "122 [label = \"[0 (9)]\"];\n",
      "}\n"
     ]
    }
   ],
   "source": [
    "print(dt)\n",
    "print(dt.get_tree_structure())"
   ]
  },
  {
   "cell_type": "code",
   "execution_count": 27,
   "metadata": {
    "id": "bY6ZfBAtqStx"
   },
   "outputs": [],
   "source": [
    "# print(dt.get_tree_structure())\n",
    "dt = DecisionTree(max_depth=2, feature_labels=features)\n",
    "dt.fit(X, y)\n",
    "predict_test = dt.predict(Z)\n",
    "results_to_csv(predict_test, \"decision_tree_titanic\")\n",
    "# graph = pydot.graph_from_dot_data(dt.get_tree_structure())\n",
    "pydot.graph_from_dot_data(dt.get_tree_structure())[0].write_pdf(\"%s-mytree.pdf\" % dataset)"
   ]
  },
  {
   "cell_type": "markdown",
   "metadata": {
    "id": "UGEvcc2Kga3G"
   },
   "source": [
    "## Train on spam"
   ]
  },
  {
   "cell_type": "markdown",
   "metadata": {
    "id": "Dfp_LHFH5f2d"
   },
   "source": [
    "### (0) Load data"
   ]
  },
  {
   "cell_type": "code",
   "execution_count": null,
   "metadata": {
    "colab": {
     "base_uri": "https://localhost:8080/"
    },
    "id": "C4GkACov5ZBl",
    "outputId": "edc3125f-51cd-4eac-c0b4-b1bb6abdeefd"
   },
   "outputs": [
    {
     "name": "stdout",
     "output_type": "stream",
     "text": [
      "Features: ['pain', 'private', 'bank', 'money', 'drug', 'spam', 'prescription', 'creative', 'height', 'featured', 'differ', 'width', 'other', 'energy', 'business', 'message', 'volumes', 'revision', 'path', 'meter', 'memo', 'planning', 'pleased', 'record', 'out', 'semicolon', 'dollar', 'sharp', 'exclamation', 'parenthesis', 'square_bracket', 'ampersand']\n",
      "Train/test size: (5280, 32) (5749, 32)\n"
     ]
    }
   ],
   "source": [
    "dataset = \"spam\"\n",
    "params = {\n",
    "    \"max_depth\": 5,\n",
    "    # \"random_state\": 6,\n",
    "    \"min_samples_leaf\": 10,\n",
    "}\n",
    "N = 100\n",
    "\n",
    "features = [\n",
    "    \"pain\", \"private\", \"bank\", \"money\", \"drug\", \"spam\", \"prescription\", \"creative\",\n",
    "    \"height\", \"featured\", \"differ\", \"width\", \"other\", \"energy\", \"business\", \"message\",\n",
    "    \"volumes\", \"revision\", \"path\", \"meter\", \"memo\", \"planning\", \"pleased\", \"record\", \"out\",\n",
    "    \"semicolon\", \"dollar\", \"sharp\", \"exclamation\", \"parenthesis\", \"square_bracket\",\n",
    "    \"ampersand\"\n",
    "]\n",
    "assert len(features) == 32\n",
    "\n",
    "# Load spam data\n",
    "path_train = './dataset/spam/spam_data.mat'\n",
    "data = scipy.io.loadmat(path_train)\n",
    "X = data['training_data']\n",
    "y = np.squeeze(data['training_labels'])\n",
    "Z = data['test_data']\n",
    "class_names = [\"Ham\", \"Spam\"]\n",
    "\n",
    "\n",
    "print(\"Features:\", features)\n",
    "print(\"Train/test size:\", X.shape, Z.shape)"
   ]
  },
  {
   "cell_type": "markdown",
   "metadata": {
    "id": "GYHIpOBD5TOw"
   },
   "source": [
    "### (1) With decision Tree"
   ]
  },
  {
   "cell_type": "code",
   "execution_count": null,
   "metadata": {
    "colab": {
     "base_uri": "https://localhost:8080/",
     "height": 591
    },
    "id": "yy5fb5Fc6Xsw",
    "outputId": "af0d2a9c-80db-4ace-bd80-b8df2c0b2d1d"
   },
   "outputs": [
    {
     "name": "stdout",
     "output_type": "stream",
     "text": [
      "\n",
      "\n",
      "Part 0: constant classifier\n",
      "Accuracy 0.7238979118329467\n",
      "\n",
      "\n",
      "Part (a-b): simplified decision tree\n",
      "For depth 1: train acc is 0.74, val acc is 0.76\n",
      "For depth 5: train acc is 0.82, val acc is 0.82\n",
      "For depth 10: train acc is 0.85, val acc is 0.83\n",
      "For depth 15: train acc is 0.87, val acc is 0.83\n",
      "For depth 20: train acc is 0.89, val acc is 0.82\n"
     ]
    },
    {
     "data": {
      "image/png": "[encoded data removed]",
      "text/plain": [
       "<Figure size 432x288 with 1 Axes>"
      ]
     },
     "metadata": {
      "needs_background": "light"
     },
     "output_type": "display_data"
    },
    {
     "name": "stdout",
     "output_type": "stream",
     "text": [
      "*****************************************************************************\n",
      "\n",
      "\n",
      "Part (c): sklearn's decision tree\n",
      "Cross validation [0.80772947 0.80772947 0.80754352 0.82011605 0.81237911]\n"
     ]
    }
   ],
   "source": [
    "print(\"\\n\\nPart 0: constant classifier\")\n",
    "print(\"Accuracy\", 1 - np.sum(y) / y.size)\n",
    "\n",
    "# Basic decision tree\n",
    "print(\"\\n\\nPart (a-b): simplified decision tree\")\n",
    "max_depths = [1, 5, 10, 15, 20]\n",
    "train_acc_list = []\n",
    "val_acc_list = []\n",
    "X_train, X_val, Y_train, Y_val = train_test_split(X, y, test_size=0.2, random_state=13)\n",
    "\n",
    "for depth in max_depths:\n",
    "    dt = DecisionTree(max_depth=depth, feature_labels=features)\n",
    "    dt.fit(X_train, Y_train)\n",
    "    predict_train = dt.predict(X_train)\n",
    "    predict_val = dt.predict(X_val)\n",
    "    train_acc = accuracy_score(Y_train, predict_train)\n",
    "    train_acc_list.append(train_acc)\n",
    "    val_acc = accuracy_score(Y_val, predict_val)\n",
    "    print(f\"For depth {depth}: train acc is {train_acc:.2f}, val acc is {val_acc:.2f}\")\n",
    "    val_acc_list.append(val_acc)\n",
    "\n",
    "plt.plot(max_depths, train_acc_list, label=\"train_acc\")\n",
    "plt.plot(max_depths, val_acc_list, label=\"val_acc\")\n",
    "plt.title(\"Spam: training & validation accuracy curve over max_depth\")\n",
    "plt.xlabel(\"max_depth\")\n",
    "plt.ylabel(\"Acc\")\n",
    "plt.show()\n",
    "print(\"*****************************************************************************\")\n",
    "\n",
    "# dt = DecisionTree(max_depth=3, feature_labels=features)\n",
    "# dt.fit(X, y)\n",
    "# print(\"Predictions\", dt.predict(Z)[:100])\n",
    "\n",
    "print(\"\\n\\nPart (c): sklearn's decision tree\")\n",
    "clf = sklearn.tree.DecisionTreeClassifier(random_state=0, **params)\n",
    "clf.fit(X, y)\n",
    "evaluate(clf)\n",
    "out = io.StringIO()\n",
    "\n",
    "# You may want to install \"gprof2dot\"\n",
    "sklearn.tree.export_graphviz(\n",
    "    clf, out_file=out, feature_names=features, class_names=class_names)\n",
    "graph = pydot.graph_from_dot_data(out.getvalue())\n",
    "pydot.graph_from_dot_data(out.getvalue())[0].write_pdf(\"%s-tree.pdf\" % dataset)"
   ]
  },
  {
   "cell_type": "markdown",
   "metadata": {
    "id": "6Mo3XX1v5TOx"
   },
   "source": [
    "### (2) With random forest"
   ]
  },
  {
   "cell_type": "code",
   "execution_count": null,
   "metadata": {
    "colab": {
     "base_uri": "https://localhost:8080/",
     "height": 296
    },
    "id": "kWbco1idFFDY",
    "outputId": "ec2ecbd1-ad71-46ff-f6c3-38b8b0d37105"
   },
   "outputs": [
    {
     "data": {
      "image/png": "[encoded data removed]",
      "text/plain": [
       "<Figure size 432x288 with 1 Axes>"
      ]
     },
     "metadata": {
      "needs_background": "light"
     },
     "output_type": "display_data"
    }
   ],
   "source": [
    "np.random.seed(13)\n",
    "m_list = [1, 5, 10, 15, 20]\n",
    "train_acc_list = []\n",
    "val_acc_list = []\n",
    "X_train, X_val, Y_train, Y_val = train_test_split(X, y, test_size=0.2, random_state=13)\n",
    "for m in m_list:\n",
    "    dt = RandomForest(params, sample_size=300, m=m, features=features)\n",
    "    dt.fit(X_train, Y_train)\n",
    "    predict_train = dt.predict(X_train)\n",
    "    predict_val = dt.predict(X_val)\n",
    "    train_acc = accuracy_score(Y_train, predict_train)\n",
    "    train_acc_list.append(train_acc)\n",
    "    val_acc = accuracy_score(Y_val, predict_val)\n",
    "    print(f\"For m {m}: train acc is {train_acc:.2f}, val acc is {val_acc:.2f}\")\n",
    "    val_acc_list.append(val_acc)\n",
    "\n",
    "plt.plot(max_depths, train_acc_list, label=\"train_acc\")\n",
    "plt.plot(max_depths, val_acc_list, label=\"val_acc\")\n",
    "plt.title(\"Titanic: training & validation accuracy curve over max_depth with RF\")\n",
    "plt.xlabel(\"max_depth\")\n",
    "plt.ylabel(\"Acc\")\n",
    "plt.show()"
   ]
  },
  {
   "cell_type": "markdown",
   "metadata": {
    "id": "hdbhcRXX5wZN"
   },
   "source": [
    "### (3) Best perf"
   ]
  },
  {
   "cell_type": "code",
   "execution_count": null,
   "metadata": {
    "id": "OM4kr67H5wZO"
   },
   "outputs": [],
   "source": [
    "dt = DecisionTree(max_depth=15, feature_labels=features)\n",
    "dt.fit(X, y)\n",
    "predict_test = dt.predict(Z)\n",
    "results_to_csv(predict_test, \"decision_tree_spam\")\n",
    "\n",
    "# dt = RandomForest(params, sample_size=300, m=10, features=features)\n",
    "# dt.fit(X, y)\n",
    "# predict_test = dt.predict(Z)\n",
    "# results_to_csv(predict_test, \"random_forest_spam\")"
   ]
  }
 ],
 "metadata": {
  "colab": {
   "provenance": []
  },
  "kernelspec": {
   "display_name": "Python 3 (ipykernel)",
   "language": "python",
   "name": "python3"
  },
  "language_info": {
   "codemirror_mode": {
    "name": "ipython",
    "version": 3
   },
   "file_extension": ".py",
   "mimetype": "text/x-python",
   "name": "python",
   "nbconvert_exporter": "python",
   "pygments_lexer": "ipython3",
   "version": "3.9.13"
  }
 },
 "nbformat": 4,
 "nbformat_minor": 1
}
